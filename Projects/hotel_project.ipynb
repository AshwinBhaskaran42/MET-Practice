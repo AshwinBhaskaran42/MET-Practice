{
 "cells": [
  {
   "cell_type": "code",
   "execution_count": 1,
   "id": "ed7cb065",
   "metadata": {},
   "outputs": [
    {
     "name": "stdout",
     "output_type": "stream",
     "text": [
      "\n",
      "\n",
      "#####WELCOME TO SO AND SO HOTEL######\n",
      "BILL ID: 4800\n",
      "\n",
      "dosa X 40 = 80\n",
      "idly X 35 = 70\n",
      "-------------------------------------------------------------------\n",
      "GST: 0%\n",
      "TAXES: 0%\n",
      "------------------------------------TOTAL BILL: Rs.150/----\n",
      "\n",
      "THANKS FOR VISITING US\n",
      "\n",
      "\n"
     ]
    }
   ],
   "source": [
    "#1. any customer will order two dishes\n",
    "#2. any customer will enter quantity for each dish\n",
    "#3. calculate the total bill for the user\n",
    "\n",
    "#1. what you want to achieve?\n",
    "    # total bill\n",
    "#2. what do you need to achieve that?\n",
    "    #dishes and their prices\n",
    "    #what user wants\n",
    "    #how many the user wants\n",
    "#3. arrange the order\n",
    "    #dishes and their prices\n",
    "    #what user wants\n",
    "    #how many the user wants\n",
    "\n",
    "#4. write the code\n",
    "\n",
    "total_bill=0\n",
    "menu={\n",
    "    \"dosa\":40,\n",
    "    \"idly\":35,\n",
    "    \"poori\":45,\n",
    "    \"wada\":50,\n",
    "    \"upma\":30\n",
    "}\n",
    "\n",
    "dish_one_choice= input(\"what do you want?\")\n",
    "dish_one_quantity= int(input(\"How many?\"))\n",
    "\n",
    "dish_two_choice= input(\"what do you want?\")\n",
    "dish_two_quantity= int(input(\"How many?\"))\n",
    "\n",
    "dish_one_bill = (dish_one_quantity * menu.get(dish_one_choice)) \n",
    "dish_two_bill = (dish_two_quantity * menu.get(dish_two_choice))\n",
    "total_bill = dish_one_bill + dish_two_bill\n",
    "#print(f\"Your total bill is {total_bill}/-\")\n",
    "\n",
    "detailed_bill = f\"\"\"\n",
    "\n",
    "#####WELCOME TO SO AND SO HOTEL######\n",
    "BILL ID: {total_bill * 32}\n",
    "\n",
    "{dish_one_choice} X {menu.get(dish_one_choice)} = {dish_one_bill}\n",
    "{dish_two_choice} X {menu.get(dish_two_choice)} = {dish_two_bill}\n",
    "-------------------------------------------------------------------\n",
    "GST: 0%\n",
    "TAXES: 0%\n",
    "------------------------------------TOTAL BILL: Rs.{total_bill}/----\n",
    "\n",
    "THANKS FOR VISITING US\n",
    "\n",
    "\"\"\"\n",
    "\n",
    "print(detailed_bill)\n",
    "\n"
   ]
  }
 ],
 "metadata": {
  "kernelspec": {
   "display_name": "Python 3",
   "language": "python",
   "name": "python3"
  },
  "language_info": {
   "codemirror_mode": {
    "name": "ipython",
    "version": 3
   },
   "file_extension": ".py",
   "mimetype": "text/x-python",
   "name": "python",
   "nbconvert_exporter": "python",
   "pygments_lexer": "ipython3",
   "version": "3.11.5"
  }
 },
 "nbformat": 4,
 "nbformat_minor": 5
}

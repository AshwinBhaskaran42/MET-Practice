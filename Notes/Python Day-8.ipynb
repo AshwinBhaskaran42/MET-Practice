{
 "cells": [
  {
   "cell_type": "code",
   "execution_count": null,
   "metadata": {
    "_cell_guid": "b1076dfc-b9ad-4769-8c92-a6c4dae69d19",
    "_uuid": "8f2839f25d086af736a60e9eeb907d3b93b6e0e5",
    "execution": {
     "iopub.execute_input": "2025-06-10T12:43:31.062672Z",
     "iopub.status.busy": "2025-06-10T12:43:31.062373Z",
     "iopub.status.idle": "2025-06-10T12:43:31.066843Z",
     "shell.execute_reply": "2025-06-10T12:43:31.066020Z",
     "shell.execute_reply.started": "2025-06-10T12:43:31.062649Z"
    },
    "trusted": true
   },
   "outputs": [
    {
     "name": "stdout",
     "output_type": "stream",
     "text": [
      "{'name': 'Alex', 'age': 35, 'address': 'Hyderabad'}\n",
      "{}\n"
     ]
    }
   ],
   "source": [
    "# #Dictionaries\n",
    "\n",
    "#1. Creation\n",
    "# a= {} #empty dict\n",
    "# person= {\n",
    "#     \"name\": \"Alex\",\n",
    "#     \"age\": 25\n",
    "# }\n",
    "# a= person[\"address\"]\n",
    "# a= person.get(\"address\", \"Hyderabad\")\n",
    "\n",
    "# #2. Modification\n",
    "# person[\"age\"]= 35\n",
    "# person.update({\"age\":35, \"address\":\"Hyderabad\"})\n",
    "\n",
    "# print(person)\n",
    "# print(a)\n",
    "\n"
   ]
  },
  {
   "cell_type": "code",
   "execution_count": null,
   "metadata": {
    "trusted": true
   },
   "outputs": [],
   "source": [
    "# #3. Deletion\n",
    "# person= {\n",
    "#     \"name\": \"Alex\",\n",
    "#     \"age\": 25\n",
    "# }\n",
    "# age= person.pop(\"age\")\n",
    "# a= person.popitem()\n",
    "# del person[\"name\"]\n",
    "# person.clear()"
   ]
  },
  {
   "cell_type": "code",
   "execution_count": null,
   "metadata": {
    "trusted": true
   },
   "outputs": [],
   "source": [
    "# 4. Helper Methods\n",
    "\n",
    "person= {\n",
    "    \"name\": \"Alex\",\n",
    "    \"age\": 25\n",
    "}\n",
    "\n",
    "a= person.keys()\n",
    "a= person.values()\n",
    "a= person.items()\n",
    "\n",
    "print(a)\n",
    "\n",
    "\n",
    "person= {\n",
    "    \"name\": \"Alex\",\n",
    "    \"age\": 25\n",
    "}\n",
    "\n",
    "person_2= person.copy()\n",
    "person[\"age\"]= 35\n",
    "print(person_2[\"age\"])\n",
    "\n",
    "\n",
    "#Merging Dicts\n",
    "user= {'name': 'john'}\n",
    "user2 = {'age': 25}\n",
    "\n",
    "merge_users = {**user, **user2}\n",
    "print(merge_users)\n",
    "\n",
    "#How to check keys in dict\n",
    "\n",
    "print('john' in list(user.values()))"
   ]
  }
 ],
 "metadata": {
  "kaggle": {
   "accelerator": "none",
   "dataSources": [],
   "dockerImageVersionId": 31040,
   "isGpuEnabled": false,
   "isInternetEnabled": false,
   "language": "python",
   "sourceType": "notebook"
  },
  "kernelspec": {
   "display_name": "Python 3",
   "language": "python",
   "name": "python3"
  },
  "language_info": {
   "codemirror_mode": {
    "name": "ipython",
    "version": 3
   },
   "file_extension": ".py",
   "mimetype": "text/x-python",
   "name": "python",
   "nbconvert_exporter": "python",
   "pygments_lexer": "ipython3",
   "version": "3.11.5"
  }
 },
 "nbformat": 4,
 "nbformat_minor": 4
}

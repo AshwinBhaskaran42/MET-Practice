{
 "cells": [
  {
   "cell_type": "code",
   "execution_count": 2,
   "metadata": {
    "execution": {
     "iopub.execute_input": "2025-05-30T14:53:27.408354Z",
     "iopub.status.busy": "2025-05-30T14:53:27.408043Z",
     "iopub.status.idle": "2025-05-30T14:53:27.413731Z",
     "shell.execute_reply": "2025-05-30T14:53:27.412905Z",
     "shell.execute_reply.started": "2025-05-30T14:53:27.408332Z"
    },
    "trusted": true
   },
   "outputs": [
    {
     "name": "stdout",
     "output_type": "stream",
     "text": [
      "BEautiFUL\n"
     ]
    }
   ],
   "source": [
    "# #3.1.3.1 - case convention\n",
    "# word = \"beAUTIful\"\n",
    "\n",
    "# a= word.upper() #BEAUTIFUL\n",
    "# a= word.lower() #beautiful\n",
    "\n",
    "# word= \"rain is beautiful\"\n",
    "\n",
    "# a= word.title() #Rain Is Beautiful\n",
    "# a= word.capitalize() #Rain is beautiful\n",
    "\n",
    "# word = \"beAUTIful\"\n",
    "# a= word.swapcase()\n",
    "# print(a)"
   ]
  },
  {
   "cell_type": "code",
   "execution_count": 5,
   "metadata": {
    "execution": {
     "iopub.execute_input": "2025-05-30T15:09:45.645198Z",
     "iopub.status.busy": "2025-05-30T15:09:45.644891Z",
     "iopub.status.idle": "2025-05-30T15:09:45.651416Z",
     "shell.execute_reply": "2025-05-30T15:09:45.650340Z",
     "shell.execute_reply.started": "2025-05-30T15:09:45.645178Z"
    },
    "trusted": true
   },
   "outputs": [
    {
     "name": "stdout",
     "output_type": "stream",
     "text": [
      "2\n"
     ]
    }
   ],
   "source": [
    "# #3.1.3.2 - searching & replacing\n",
    "\n",
    "# word_two= \"summer is odd\"\n",
    "# a= word_two.find(\"is\") # 7\n",
    "# a= word_two.find(\"p\") # -1\n",
    "# a= word_two.count(\"m\") # 2\n",
    "\n",
    "# word_two= \"ful is not being beautiful\"\n",
    "# a= word_two.count(\"ful\") # 2\n",
    "# a= word_two.count(\"l is not being beautiful\") # 1\n",
    "\n",
    "# word_two= \"beauty is not being beautiful\"\n",
    "# a= word_two.replace(\"beautiful\",\"wonderful\") # beauty is not being wonderful\n",
    "\n",
    "print(a)"
   ]
  },
  {
   "cell_type": "code",
   "execution_count": 28,
   "metadata": {
    "execution": {
     "iopub.execute_input": "2025-05-30T12:38:10.690579Z",
     "iopub.status.busy": "2025-05-30T12:38:10.690308Z",
     "iopub.status.idle": "2025-05-30T12:38:10.695428Z",
     "shell.execute_reply": "2025-05-30T12:38:10.694512Z",
     "shell.execute_reply.started": "2025-05-30T12:38:10.690559Z"
    },
    "trusted": true
   },
   "outputs": [
    {
     "name": "stdout",
     "output_type": "stream",
     "text": [
      "    Hello World\n"
     ]
    }
   ],
   "source": [
    "# #3.1.3.3 - Whitespace handling\n",
    "\n",
    "# word= \"    Hello World      \"\n",
    "# a= word.strip() #Hello World #removes all spaces\n",
    "# a= word.lstrip() # remove spaces of left side\n",
    "# a= word.rstrip() # remove spaces of right side\n",
    "\n",
    "\n",
    "# print(a)"
   ]
  },
  {
   "cell_type": "code",
   "execution_count": 39,
   "metadata": {
    "execution": {
     "iopub.execute_input": "2025-05-30T12:47:33.778071Z",
     "iopub.status.busy": "2025-05-30T12:47:33.777733Z",
     "iopub.status.idle": "2025-05-30T12:47:33.784116Z",
     "shell.execute_reply": "2025-05-30T12:47:33.783046Z",
     "shell.execute_reply.started": "2025-05-30T12:47:33.778049Z"
    },
    "trusted": true
   },
   "outputs": [
    {
     "name": "stdout",
     "output_type": "stream",
     "text": [
      "hellooworld\n"
     ]
    }
   ],
   "source": [
    "# #3.1.3.4 - Splitting & Joining\n",
    "\n",
    "# word= \"apple,banana,cherry\"\n",
    "# a= word.split(\",\") #['apple', 'banana', 'cherry']\n",
    "# a= word.split(\"e\") #['appl', ',banana,ch', 'rry']\n",
    "\n",
    "# words = [\"hello\",\"world\"]\n",
    "# a= \" \".join(words) #hello world\n",
    "# a= \"$\".join(words) #hello$world\n",
    "\n",
    "# z= \"hello\"\n",
    "# a= z[-1].join(words)\n",
    "\n",
    "# print(a)"
   ]
  }
 ],
 "metadata": {
  "kaggle": {
   "accelerator": "none",
   "dataSources": [],
   "dockerImageVersionId": 31040,
   "isGpuEnabled": false,
   "isInternetEnabled": false,
   "language": "python",
   "sourceType": "notebook"
  },
  "kernelspec": {
   "display_name": "Python 3",
   "language": "python",
   "name": "python3"
  },
  "language_info": {
   "codemirror_mode": {
    "name": "ipython",
    "version": 3
   },
   "file_extension": ".py",
   "mimetype": "text/x-python",
   "name": "python",
   "nbconvert_exporter": "python",
   "pygments_lexer": "ipython3",
   "version": "3.11.11"
  }
 },
 "nbformat": 4,
 "nbformat_minor": 4
}

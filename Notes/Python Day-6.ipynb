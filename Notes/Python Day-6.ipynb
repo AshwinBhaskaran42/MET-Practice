{
 "cells": [
  {
   "cell_type": "code",
   "execution_count": 3,
   "metadata": {
    "_cell_guid": "b1076dfc-b9ad-4769-8c92-a6c4dae69d19",
    "_uuid": "8f2839f25d086af736a60e9eeb907d3b93b6e0e5",
    "execution": {
     "iopub.execute_input": "2025-06-05T12:03:59.307410Z",
     "iopub.status.busy": "2025-06-05T12:03:59.307063Z",
     "iopub.status.idle": "2025-06-05T12:03:59.314310Z",
     "shell.execute_reply": "2025-06-05T12:03:59.313112Z",
     "shell.execute_reply.started": "2025-06-05T12:03:59.307389Z"
    },
    "trusted": true
   },
   "outputs": [
    {
     "name": "stdout",
     "output_type": "stream",
     "text": [
      "['banana', 'kiwi', 'apple']\n",
      "[1, 2, 3]\n",
      "[1, 'Hello', 3.14, True]\n"
     ]
    }
   ],
   "source": [
    "# name=\"John\"\n",
    "# age= 35\n",
    "# temp= 98.5\n",
    "# is_married= True\n",
    "\n",
    "# # Creating Lists\n",
    "# fruits= []\n",
    "# fruits= list()\n",
    "# numbers= [1, 2, 3,]\n",
    "# fruits= [\"banana\", \"kiwi\", \"apple\"]\n",
    "# mixed= [1, \"Hello\", 3.14, True]\n",
    "# print(fruits)\n",
    "# print(numbers)\n",
    "# print(mixed)"
   ]
  },
  {
   "cell_type": "code",
   "execution_count": 5,
   "metadata": {
    "execution": {
     "iopub.execute_input": "2025-06-05T12:05:34.053863Z",
     "iopub.status.busy": "2025-06-05T12:05:34.053485Z",
     "iopub.status.idle": "2025-06-05T12:05:34.059747Z",
     "shell.execute_reply": "2025-06-05T12:05:34.058758Z",
     "shell.execute_reply.started": "2025-06-05T12:05:34.053832Z"
    },
    "trusted": true
   },
   "outputs": [
    {
     "name": "stdout",
     "output_type": "stream",
     "text": [
      "banana\n",
      "apple\n"
     ]
    }
   ],
   "source": [
    "# fruits= [\"banana\", \"kiwi\", \"apple\"]\n",
    "# print(fruits[0]) #banana  #+ve indexing\n",
    "# print(fruits[-1]) #apple  #-ve indexing"
   ]
  },
  {
   "cell_type": "code",
   "execution_count": null,
   "metadata": {
    "execution": {
     "iopub.execute_input": "2025-06-05T13:01:21.241052Z",
     "iopub.status.busy": "2025-06-05T13:01:21.240295Z",
     "iopub.status.idle": "2025-06-05T13:01:21.257040Z",
     "shell.execute_reply": "2025-06-05T13:01:21.256087Z",
     "shell.execute_reply.started": "2025-06-05T13:01:21.241025Z"
    },
    "trusted": true
   },
   "outputs": [
    {
     "name": "stdout",
     "output_type": "stream",
     "text": [
      "['kiwi', 'kiwi', 'apple', 'cherry', 'kiwi', 'banana']\n"
     ]
    }
   ],
   "source": [
    "# fruits= [\"banana\", \"kiwi\", \"apple\"]\n",
    "\n",
    "#1. Add/update\n",
    "# fruits[0]= \"pear\" #['pear', 'kiwi', 'apple']\n",
    "# fruits.append(\"dragon\") #['banana', 'kiwi', 'apple', 'dragon']\n",
    "# fruits.append(\"dragon\") #['banana', 'kiwi', 'apple', 'dragon', 'dragon']\n",
    "# fruits.insert(1,\"dragon\") # ['banana', 'dragon', 'kiwi', 'apple']\n",
    "\n",
    "# fruits= [\"banana\", \"kiwi\", \"apple\"]\n",
    "# fruits2= [\"pine\", \"mango\"]\n",
    "# fruits.extend(fruits2) # ['banana', 'kiwi', 'apple', 'pine', 'mango']\n",
    "\n",
    "# print(fruits)\n",
    "\n",
    "\n",
    "#2. Delete\n",
    "# fruits= [\"banana\", \"kiwi\", \"apple\"]\n",
    "# a=fruits.pop() # ['banana', 'kiwi']\n",
    "# a=fruits.pop(1)  # ['banana', 'apple']\n",
    "# del fruits[2] # ['banana', 'kiwi'] # does not return popped element\n",
    "\n",
    "# fruits.remove(\"kiwi\") # ['banana', 'apple']\n",
    "# del fruits # name 'fruits' is not defined\n",
    "# fruits.clear() # []\n",
    "\n",
    "# print(fruits)\n",
    "\n",
    "\n",
    "#3. Search & Count\n",
    "# fruits= [\"banana\", \"kiwi\", \"apple\", \"kiwi\", \"kiwi\"]\n",
    "# i= fruits.index(\"kiwi\") # 1\n",
    "# i = fruits.count(\"kiwi\") # 3\n",
    "\n",
    "# print(i)\n",
    "\n",
    "#4. Sort and order\n",
    "# fruits= [\"banana\", \"kiwi\", \"cherry\", \"apple\", \"kiwi\", \"kiwi\"]\n",
    "# fruits.sort() # ['apple', 'banana', 'cherry', 'kiwi', 'kiwi', 'kiwi']                #ascend\n",
    "# fruits.sort(reverse=True)# ['kiwi', 'kiwi', 'kiwi', 'cherry', 'banana', 'apple']     #descend\n",
    "# fruits.reverse() # ['kiwi', 'kiwi', 'apple', 'cherry', 'kiwi', 'banana']             #exactly reverse\n",
    "\n",
    "# print(fruits)\n",
    "\n",
    "#5. Helper methods\n",
    "# fruits= [\"banana\", \"kiwi\", \"apple\", \"kiwi\", \"kiwi\"]\n",
    "# print(fruits[fruits.index(\"apple\")]) #apple\n",
    "# i= len(fruits) #5\n",
    "# print(i)\n",
    "\n",
    "# nums = [2, 3, 6, 8]\n",
    "# i = len(nums) #4\n",
    "# r= sum(nums) #19\n",
    "# r= max(nums) #8\n",
    "# r= min(nums) #2\n",
    "# print(r)\n",
    "# print(4 not in nums) #True"
   ]
  },
  {
   "cell_type": "code",
   "execution_count": null,
   "metadata": {
    "execution": {
     "iopub.execute_input": "2025-06-05T12:44:57.253891Z",
     "iopub.status.busy": "2025-06-05T12:44:57.253039Z",
     "iopub.status.idle": "2025-06-05T12:44:57.260805Z",
     "shell.execute_reply": "2025-06-05T12:44:57.259606Z",
     "shell.execute_reply.started": "2025-06-05T12:44:57.253853Z"
    },
    "trusted": true
   },
   "outputs": [
    {
     "name": "stdout",
     "output_type": "stream",
     "text": [
      "['wakeup', 'exercise']\n",
      "e\n"
     ]
    }
   ],
   "source": [
    "# words = [\"wakeup\", \"exercise\", \"work\"]\n",
    "\n",
    "# del words[2]\n",
    "# words.reverse()\n",
    "\n",
    "# print(words)\n",
    "\n",
    "# words = [\"wakeup\", \"exercise\", \"work\"]\n",
    "# print(words[-3:-1])\n",
    "# print(words[0][3])"
   ]
  }
 ],
 "metadata": {
  "kaggle": {
   "accelerator": "none",
   "dataSources": [],
   "dockerImageVersionId": 31040,
   "isGpuEnabled": false,
   "isInternetEnabled": false,
   "language": "python",
   "sourceType": "notebook"
  },
  "kernelspec": {
   "display_name": "Python 3",
   "language": "python",
   "name": "python3"
  },
  "language_info": {
   "codemirror_mode": {
    "name": "ipython",
    "version": 3
   },
   "file_extension": ".py",
   "mimetype": "text/x-python",
   "name": "python",
   "nbconvert_exporter": "python",
   "pygments_lexer": "ipython3",
   "version": "3.11.5"
  }
 },
 "nbformat": 4,
 "nbformat_minor": 4
}

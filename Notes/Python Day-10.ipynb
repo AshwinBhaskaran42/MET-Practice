{
 "cells": [
  {
   "cell_type": "code",
   "execution_count": 6,
   "id": "c07f7b85",
   "metadata": {},
   "outputs": [
    {
     "name": "stdout",
     "output_type": "stream",
     "text": [
      "works\n",
      "One\n",
      "Done\n",
      "One\n"
     ]
    }
   ],
   "source": [
    "#1. IF\n",
    "\n",
    "if True:\n",
    "    print(\"works\")\n",
    "\n",
    "#2. IF ELSE\n",
    "\n",
    "if True:\n",
    "    print(\"One\")\n",
    "else:\n",
    "    print(\"Two\")\n",
    "\n",
    "#3. IF-ELIF-ELSE\n",
    "\n",
    "a,b= 1,3\n",
    "if 1>3:\n",
    "    print(\"One\")\n",
    "elif a==b:\n",
    "    print(Two)\n",
    "else:\n",
    "    print(\"Done\")\n",
    "\n",
    "#4. IF-ELIF\n",
    "\n",
    "a,b= 1,3\n",
    "\n",
    "if a<b:\n",
    "    print(\"One\")\n",
    "elif a>b:\n",
    "    print(\"Two\")\n"
   ]
  },
  {
   "cell_type": "code",
   "execution_count": 13,
   "id": "bc0ea365",
   "metadata": {},
   "outputs": [
    {
     "name": "stdout",
     "output_type": "stream",
     "text": [
      "Hello 1\n",
      "Hello 2\n",
      "Hello 3\n"
     ]
    }
   ],
   "source": [
    "#5. Nested Conditions\n",
    "\n",
    "# Note:\n",
    "# check if it is a valid combination\n",
    "# for every if, else, elif block, indentation must be at same level\n",
    "# at any point, only one block will be executed in a given combination.\n",
    "\n",
    "a,b,c= 1,2,3\n",
    "\n",
    "if b>c:\n",
    "    print(\"Hello\")\n",
    "elif c>b:\n",
    "    print(\"Hello 1\")\n",
    "    if b>a:\n",
    "        print(\"Hello 2\")\n",
    "        print(\"Hello 3\")\n",
    "    elif b>a:\n",
    "        print(\"Hello 4\")\n",
    "        print(\"Hello 5\")\n",
    "    else:\n",
    "        print(\"No Hello\")\n",
    "else:\n",
    "    print(\"Not Hello\")"
   ]
  },
  {
   "cell_type": "code",
   "execution_count": null,
   "id": "1f75031f",
   "metadata": {},
   "outputs": [],
   "source": []
  }
 ],
 "metadata": {
  "kernelspec": {
   "display_name": "Python 3",
   "language": "python",
   "name": "python3"
  },
  "language_info": {
   "codemirror_mode": {
    "name": "ipython",
    "version": 3
   },
   "file_extension": ".py",
   "mimetype": "text/x-python",
   "name": "python",
   "nbconvert_exporter": "python",
   "pygments_lexer": "ipython3",
   "version": "3.11.5"
  }
 },
 "nbformat": 4,
 "nbformat_minor": 5
}

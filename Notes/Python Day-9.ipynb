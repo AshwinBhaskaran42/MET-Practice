{
 "cells": [
  {
   "cell_type": "code",
   "execution_count": null,
   "id": "cbfa86b1",
   "metadata": {},
   "outputs": [
    {
     "name": "stdout",
     "output_type": "stream",
     "text": [
      "[['jack', 'apple', 'fruit'], ['orange', 'kiwi'], ['dragon', 'grape']]\n",
      "w\n"
     ]
    }
   ],
   "source": [
    "#1. List inside list\n",
    "\n",
    "fruits= [\n",
    "    [\"jack\", 'apple'],\n",
    "    [\"orange\", \"kiwi\"],\n",
    "    [\"dragon\",\"grape\"]\n",
    "]\n",
    "fruits[0].append(\"fruit\")\n",
    "print(fruits) # [['jack', 'apple', 'fruit'], ['orange', 'kiwi'], ['dragon', 'grape']]\n",
    "\n",
    "a= fruits[1:2][0][1][2]\n",
    "print(a) # w\n",
    "\n",
    "#a= [len(fruits[0])+len(fruits[1])+len(fruits[2])]"
   ]
  },
  {
   "cell_type": "code",
   "execution_count": 15,
   "id": "73da2fe4",
   "metadata": {},
   "outputs": [
    {
     "name": "stdout",
     "output_type": "stream",
     "text": [
      "5\n"
     ]
    }
   ],
   "source": [
    "#2. Tuple inside tuple\n",
    "\n",
    "coordinates= ((0,1), (2,3), (4,5))\n",
    "print(coordinates[2][1])"
   ]
  },
  {
   "cell_type": "code",
   "execution_count": 6,
   "id": "2780ae47",
   "metadata": {},
   "outputs": [
    {
     "name": "stdout",
     "output_type": "stream",
     "text": [
      "1.0\n"
     ]
    }
   ],
   "source": [
    "#3. tuple inside list\n",
    "\n",
    "students= [(\"Alice\", 23), (\"Bob\", 21)]\n",
    "print(int(str(students[1][1])+ str(23))/ 2123)\n",
    "#print(students[1].pop()) # Error # Tuple cannot be modified"
   ]
  },
  {
   "cell_type": "code",
   "execution_count": 7,
   "id": "d940f7f5",
   "metadata": {},
   "outputs": [
    {
     "name": "stdout",
     "output_type": "stream",
     "text": [
      "20\n"
     ]
    }
   ],
   "source": [
    "#4. List inside a tuple\n",
    "\n",
    "groups= ([10,20], [30,40])\n",
    "print(int(str(groups[1][-2]).replace('3','2')))"
   ]
  },
  {
   "cell_type": "code",
   "execution_count": null,
   "id": "9fc48f07",
   "metadata": {},
   "outputs": [
    {
     "name": "stdout",
     "output_type": "stream",
     "text": [
      "40\n",
      "[{'name': 'Alice', 'age': 23, 'marks': 3}, {'name': 'Bob', 'age': 27}]\n"
     ]
    }
   ],
   "source": [
    "#5. List of dictionaries\n",
    "\n",
    "students= [\n",
    "    {\n",
    "        \"name\": \"Alice\",\n",
    "        \"age\": 23\n",
    "    },\n",
    "    {\n",
    "        \"name\": \"Bob\",\n",
    "        \"age\": 27\n",
    "    }\n",
    "]\n",
    "print(students[0].get(\"marks\",\"40\")) #40\n",
    "\n",
    "students[0].update({\"marks\":len(students[1].get(\"name\", \"John\"))})\n",
    "print(students) #[{'name': 'Alice', 'age': 23, 'marks': 3}, {'name': 'Bob', 'age': 27}]"
   ]
  },
  {
   "cell_type": "code",
   "execution_count": 12,
   "id": "aad07e41",
   "metadata": {},
   "outputs": [
    {
     "name": "stdout",
     "output_type": "stream",
     "text": [
      "67\n"
     ]
    }
   ],
   "source": [
    "#6. List inside a dictionary\n",
    "\n",
    "subject_marks ={\n",
    "    \"Maths\":[30,67,80]\n",
    "}\n",
    "print(subject_marks[\"Maths\"][1])"
   ]
  },
  {
   "cell_type": "code",
   "execution_count": 14,
   "id": "79395457",
   "metadata": {},
   "outputs": [
    {
     "name": "stdout",
     "output_type": "stream",
     "text": [
      "{'alice': {'name': 'Alice', 'age': 23}}\n",
      "23\n"
     ]
    }
   ],
   "source": [
    "#7. Dictionary inside a dictionary\n",
    "\n",
    "user_profile={\n",
    "    \"alice\":{\n",
    "        \"name\": \"Alice\",\n",
    "        \"age\": 23\n",
    "    }\n",
    "}\n",
    "print(user_profile) #{'alice': {'name': 'Alice', 'age': 23}}\n",
    "print(user_profile.get(\"alice\").pop(\"age\"))"
   ]
  },
  {
   "cell_type": "code",
   "execution_count": null,
   "id": "ffb2d3a3",
   "metadata": {},
   "outputs": [],
   "source": [
    "#8. Dictionary inside a List\n",
    "\n",
    "billing_history= [\n",
    "    {\n",
    "        \"amount\":\"200\",\n",
    "        \"status\":\"failed\"\n",
    "    },\n",
    "    {\n",
    "        \"amount\":\"832\",\n",
    "        \"status\":\"success\"\n",
    "    }\n",
    "]"
   ]
  },
  {
   "cell_type": "code",
   "execution_count": null,
   "id": "e6426c67",
   "metadata": {},
   "outputs": [],
   "source": []
  }
 ],
 "metadata": {
  "kernelspec": {
   "display_name": "Python 3",
   "language": "python",
   "name": "python3"
  },
  "language_info": {
   "codemirror_mode": {
    "name": "ipython",
    "version": 3
   },
   "file_extension": ".py",
   "mimetype": "text/x-python",
   "name": "python",
   "nbconvert_exporter": "python",
   "pygments_lexer": "ipython3",
   "version": "3.11.5"
  }
 },
 "nbformat": 4,
 "nbformat_minor": 5
}

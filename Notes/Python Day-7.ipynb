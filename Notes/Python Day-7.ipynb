{
 "cells": [
  {
   "cell_type": "code",
   "execution_count": null,
   "metadata": {
    "_cell_guid": "b1076dfc-b9ad-4769-8c92-a6c4dae69d19",
    "_uuid": "8f2839f25d086af736a60e9eeb907d3b93b6e0e5",
    "execution": {
     "iopub.execute_input": "2025-06-06T12:20:41.502750Z",
     "iopub.status.busy": "2025-06-06T12:20:41.502428Z",
     "iopub.status.idle": "2025-06-06T12:20:41.509278Z",
     "shell.execute_reply": "2025-06-06T12:20:41.508082Z",
     "shell.execute_reply.started": "2025-06-06T12:20:41.502728Z"
    },
    "trusted": true
   },
   "outputs": [
    {
     "name": "stdout",
     "output_type": "stream",
     "text": [
      "<class 'tuple'>\n"
     ]
    }
   ],
   "source": [
    "# Tuples - immutable\n",
    "\n",
    "# colours= (\"yellow\", \"green\", \"black\", \"black\")\n",
    "\n",
    "# print(colours[1]) #green\n",
    "# print(colours[1:4]) #('green', 'black', 'black')\n",
    "\n",
    "# #1. Create\n",
    "# a= ()\n",
    "# b= tuple()\n",
    "# c= (\"yellow\", \"green\", \"black\", \"black\")\n",
    "# d= \"yellow\", \"green\", \"black\", \"black\"  # paranthesis() are optional\n",
    "# print(type(d))\n",
    "\n",
    "# e= (\"Hello\") # <class 'str'>\n",
    "# print(type(e)) \n",
    "# f= (\"Hello\",) # <class 'tuple'> # tuple with single element\n",
    "# print(type(f))\n",
    "\n",
    "#2. Access elements\n",
    "\n",
    "# c= (\"yellow\", \"green\", \"black\")\n",
    "# print(c[2]) #black\n",
    "# print(c[-2]) #green\n",
    "# print(c[1:3]) #('green', 'black')\n",
    "# print(c[:2]) #('yellow', 'green')\n",
    "# print(c[-3:-1]) #('yellow', 'green')\n",
    "\n",
    "#3. Updating elements in tuple - work around - type conversion to list\n",
    "\n",
    "# c= (\"yellow\", \"green\", \"black\")\n",
    "# d= list(c)\n",
    "# d.insert(2,\"white\")\n",
    "# d.append(\"orange\")\n",
    "# c= tuple(d)\n",
    "# print(c) #('yellow', 'green', 'white', 'black', 'orange')\n",
    "\n",
    "\n",
    "#3.2 adding 2 tuples\n",
    "\n",
    "# a= (\"a\", \"b\", \"c\")\n",
    "# b= (\"x\", \"y\", \"z\")\n",
    "# c= a+b\n",
    "# print(c) # ('a', 'b', 'c', 'x', 'y', 'z')\n",
    "\n",
    "#4. Remove items from tuple\n",
    "\n",
    "# #4.1 - type convert to list and delete\n",
    "# a= (\"a\", \"b\", \"c\")\n",
    "# b= list(a)\n",
    "# b.remove(\"c\")\n",
    "# a= tuple(b)\n",
    "# print(a) #('a', 'b')\n",
    "\n",
    "# #4.2 - to delete entire tuple\n",
    "# a= (\"a\", \"b\", \"c\")\n",
    "# del a\n",
    "# print(a) #name 'a' is not defined\n",
    "\n"
   ]
  },
  {
   "cell_type": "code",
   "execution_count": 23,
   "metadata": {
    "execution": {
     "iopub.execute_input": "2025-06-06T12:24:02.424358Z",
     "iopub.status.busy": "2025-06-06T12:24:02.423675Z",
     "iopub.status.idle": "2025-06-06T12:24:02.429788Z",
     "shell.execute_reply": "2025-06-06T12:24:02.428980Z",
     "shell.execute_reply.started": "2025-06-06T12:24:02.424331Z"
    },
    "trusted": true
   },
   "outputs": [
    {
     "name": "stdout",
     "output_type": "stream",
     "text": [
      "['kiwi', 'dragon']\n"
     ]
    }
   ],
   "source": [
    "# #5 Tuple Unpacking\n",
    "# fruits= (\"apple\", \"banana\", \"kiwi\", \"dragon\")\n",
    "# a,b,*c= fruits\n",
    "# print(c) #['kiwi', 'dragon']"
   ]
  },
  {
   "cell_type": "code",
   "execution_count": 24,
   "metadata": {
    "execution": {
     "iopub.execute_input": "2025-06-06T12:25:38.447682Z",
     "iopub.status.busy": "2025-06-06T12:25:38.447349Z",
     "iopub.status.idle": "2025-06-06T12:25:38.453642Z",
     "shell.execute_reply": "2025-06-06T12:25:38.452504Z",
     "shell.execute_reply.started": "2025-06-06T12:25:38.447660Z"
    },
    "trusted": true
   },
   "outputs": [
    {
     "name": "stdout",
     "output_type": "stream",
     "text": [
      "4\n",
      "1\n",
      "2\n"
     ]
    }
   ],
   "source": [
    "# #6 Helper methods\n",
    "\n",
    "# fruits= (\"apple\", \"banana\", \"kiwi\", \"dragon\")\n",
    "# print(len(fruits))\n",
    "# print(fruits.count(\"apple\"))\n",
    "# print(fruits.index(\"kiwi\"))\n"
   ]
  },
  {
   "cell_type": "code",
   "execution_count": 54,
   "metadata": {
    "execution": {
     "iopub.execute_input": "2025-06-06T12:56:13.212652Z",
     "iopub.status.busy": "2025-06-06T12:56:13.212346Z",
     "iopub.status.idle": "2025-06-06T12:56:13.219292Z",
     "shell.execute_reply": "2025-06-06T12:56:13.218061Z",
     "shell.execute_reply.started": "2025-06-06T12:56:13.212629Z"
    },
    "trusted": true
   },
   "outputs": [
    {
     "name": "stdout",
     "output_type": "stream",
     "text": [
      "{'alex', 'ally', 'john'}\n"
     ]
    }
   ],
   "source": [
    "#Sets - unordered - no indexing (hence faster), no duplicate elements - retaines only unique elements\n",
    "        # printing, poping, adding of elements happens in random order\n",
    "\n",
    "#1. Create Sets\n",
    "\n",
    "# a= {}\n",
    "# print(type(a)) # <class 'dict'>\n",
    "\n",
    "# b= set()\n",
    "# print(type(b)) #<class 'set'>\n",
    "# print(b) #set()\n",
    "\n",
    "# players= {\"john\", \"alex\", \"ally\", \"ally\"}\n",
    "# print(players) #{'alex', 'ally', 'john'}\n",
    "\n",
    "\n",
    "# #2. Access Elements\n",
    "# players= {\"john\", \"alex\", \"ally\", \"ally\"}\n",
    "# print(players.pop()) #alex\n",
    "# print(players) # {'ally', 'john'}\n",
    "\n",
    "# #3. Add Elements\n",
    "# #3.1\n",
    "# players= {\"john\", \"alex\", \"ally\", \"ally\"}\n",
    "# players.add(\"jim\")\n",
    "# print(players) # {'alex', 'jim', 'ally', 'john'}\n",
    "\n",
    "# #3.2\n",
    "# a= {\"john\", \"alex\", \"ally\"}\n",
    "# b= {\"john\", \"Guy\"} #  here b could be of list or tuple also\n",
    "# a.update(b)\n",
    "# print(a) #{'Guy', 'alex', 'ally', 'john'}\n",
    "\n",
    "#3.3 - | - union, & - intersection\n",
    "# a= {\"john\", \"alex\", \"ally\"}\n",
    "# b= {\"john\", \"Lex\", \"Oly\"}\n",
    "\n",
    "# c= a | b #{'Lex', 'alex', 'Oly', 'ally', 'john'}    # union\n",
    "# print(c)\n",
    "# z= a & b #{'john'}     # intersection\n",
    "# print(z)\n",
    "\n",
    "# #4 Removing elements from Set\n",
    "\n",
    "# a= {\"john\", \"alex\", \"ally\"}\n",
    "# a.remove(\"alex\") # throws an error when the element is not found # hard removal\n",
    "# print(a) #{'ally', 'john'}\n",
    "\n",
    "# a.discard(\"anny\") #{'alex', 'ally', 'john'} #soft removal\n",
    "# print(a)\n",
    "\n",
    "\n",
    "# b= a.pop() #{'ally', 'john'}\n",
    "# a.clear() # set()\n",
    "# del a #name 'a' is not defined\n",
    "\n",
    "#print(a)\n"
   ]
  }
 ],
 "metadata": {
  "kaggle": {
   "accelerator": "none",
   "dataSources": [],
   "dockerImageVersionId": 31040,
   "isGpuEnabled": false,
   "isInternetEnabled": false,
   "language": "python",
   "sourceType": "notebook"
  },
  "kernelspec": {
   "display_name": "Python 3",
   "language": "python",
   "name": "python3"
  },
  "language_info": {
   "codemirror_mode": {
    "name": "ipython",
    "version": 3
   },
   "file_extension": ".py",
   "mimetype": "text/x-python",
   "name": "python",
   "nbconvert_exporter": "python",
   "pygments_lexer": "ipython3",
   "version": "3.11.5"
  }
 },
 "nbformat": 4,
 "nbformat_minor": 4
}

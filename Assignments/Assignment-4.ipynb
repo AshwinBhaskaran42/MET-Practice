{
 "cells": [
  {
   "cell_type": "code",
   "execution_count": 1,
   "metadata": {
    "_cell_guid": "b1076dfc-b9ad-4769-8c92-a6c4dae69d19",
    "_uuid": "8f2839f25d086af736a60e9eeb907d3b93b6e0e5",
    "execution": {
     "iopub.execute_input": "2025-06-10T13:26:54.625105Z",
     "iopub.status.busy": "2025-06-10T13:26:54.624872Z",
     "iopub.status.idle": "2025-06-10T13:26:54.633143Z",
     "shell.execute_reply": "2025-06-10T13:26:54.632363Z",
     "shell.execute_reply.started": "2025-06-10T13:26:54.625084Z"
    },
    "trusted": true
   },
   "outputs": [
    {
     "name": "stdout",
     "output_type": "stream",
     "text": [
      "{'Paneer Tikka': 100, 'Butter Naan': 35, 'Kofta': 80}\n"
     ]
    }
   ],
   "source": [
    "#1\n",
    "food_items={\n",
    "    \"Paneer Tikka\": 100,\n",
    "    \"Butter Naan\": 35,\n",
    "    \"Kofta\": 80\n",
    "}\n",
    "print(food_items)"
   ]
  },
  {
   "cell_type": "code",
   "execution_count": 21,
   "metadata": {
    "execution": {
     "iopub.execute_input": "2025-06-10T14:09:38.114924Z",
     "iopub.status.busy": "2025-06-10T14:09:38.114642Z",
     "iopub.status.idle": "2025-06-10T14:09:51.807653Z",
     "shell.execute_reply": "2025-06-10T14:09:51.806919Z",
     "shell.execute_reply.started": "2025-06-10T14:09:38.114903Z"
    },
    "trusted": true
   },
   "outputs": [
    {
     "name": "stdout",
     "output_type": "stream",
     "text": [
      "Enter 3 subjects and their marks separated by spaces Maths 50 English 60 Science 70\n"
     ]
    },
    {
     "name": "stdout",
     "output_type": "stream",
     "text": [
      "{'Maths': 50, 'English': 60, 'Science': 70}\n"
     ]
    }
   ],
   "source": [
    "#2\n",
    "data = input(\"Enter 3 subjects and their marks separated by spaces\").split(\" \")\n",
    "subject_marks = {\n",
    "    data[0]: int(data[1]),\n",
    "    data[2]: int(data[3]),\n",
    "    data[4]: int(data[5])\n",
    "}\n",
    "print(subject_marks)\n"
   ]
  },
  {
   "cell_type": "code",
   "execution_count": 6,
   "metadata": {
    "execution": {
     "iopub.execute_input": "2025-06-10T13:35:45.606824Z",
     "iopub.status.busy": "2025-06-10T13:35:45.606342Z",
     "iopub.status.idle": "2025-06-10T13:35:45.611455Z",
     "shell.execute_reply": "2025-06-10T13:35:45.610687Z",
     "shell.execute_reply.started": "2025-06-10T13:35:45.606799Z"
    },
    "trusted": true
   },
   "outputs": [
    {
     "name": "stdout",
     "output_type": "stream",
     "text": [
      "{'name': 'John', 'age': 12, 'grade': 8, 'City': 'Hyderabad'}\n"
     ]
    }
   ],
   "source": [
    "#3\n",
    "student={\n",
    "    'name':\"John\",\n",
    "    'age': 12,\n",
    "    'grade': 8\n",
    "}\n",
    "student.update({\"City\": \"Hyderabad\"})\n",
    "print(student)\n"
   ]
  },
  {
   "cell_type": "code",
   "execution_count": 7,
   "metadata": {
    "execution": {
     "iopub.execute_input": "2025-06-10T13:38:30.157537Z",
     "iopub.status.busy": "2025-06-10T13:38:30.156981Z",
     "iopub.status.idle": "2025-06-10T13:38:30.161983Z",
     "shell.execute_reply": "2025-06-10T13:38:30.161355Z",
     "shell.execute_reply.started": "2025-06-10T13:38:30.157511Z"
    },
    "trusted": true
   },
   "outputs": [
    {
     "name": "stdout",
     "output_type": "stream",
     "text": [
      "{'a': 1, 'b': 3, 'c': 4}\n"
     ]
    }
   ],
   "source": [
    "#4\n",
    "s1= {'a': 1, 'b': 2}\n",
    "s2= {'b': 3, 'c': 4}\n",
    "s1.update(s2)\n",
    "print(s1)\n"
   ]
  },
  {
   "cell_type": "code",
   "execution_count": 9,
   "metadata": {
    "execution": {
     "iopub.execute_input": "2025-06-10T13:41:48.396330Z",
     "iopub.status.busy": "2025-06-10T13:41:48.395786Z",
     "iopub.status.idle": "2025-06-10T13:41:48.400687Z",
     "shell.execute_reply": "2025-06-10T13:41:48.399985Z",
     "shell.execute_reply.started": "2025-06-10T13:41:48.396303Z"
    },
    "trusted": true
   },
   "outputs": [
    {
     "name": "stdout",
     "output_type": "stream",
     "text": [
      "{'skill': 'painting', 'Skill': 'singing'}\n"
     ]
    }
   ],
   "source": [
    "#5\n",
    "PersonA= {\n",
    "    \"skill\":\"painting\"\n",
    "}\n",
    "PersonB= {\n",
    "    \"Skill\":\"singing\"\n",
    "}\n",
    "skills_merged={**PersonA, **PersonB}\n",
    "print(skills_merged)"
   ]
  },
  {
   "cell_type": "code",
   "execution_count": 10,
   "metadata": {
    "execution": {
     "iopub.execute_input": "2025-06-10T13:43:17.455705Z",
     "iopub.status.busy": "2025-06-10T13:43:17.455425Z",
     "iopub.status.idle": "2025-06-10T13:43:17.460223Z",
     "shell.execute_reply": "2025-06-10T13:43:17.459223Z",
     "shell.execute_reply.started": "2025-06-10T13:43:17.455680Z"
    },
    "trusted": true
   },
   "outputs": [
    {
     "name": "stdout",
     "output_type": "stream",
     "text": [
      "dict_keys(['apple', 'banana', 'orange'])\n"
     ]
    }
   ],
   "source": [
    "#6\n",
    "fruits={\n",
    "    'apple':5,\n",
    "    'banana':3,\n",
    "    'orange':8\n",
    "}\n",
    "print(fruits.keys())"
   ]
  },
  {
   "cell_type": "code",
   "execution_count": 11,
   "metadata": {
    "execution": {
     "iopub.execute_input": "2025-06-10T13:44:49.381332Z",
     "iopub.status.busy": "2025-06-10T13:44:49.381032Z",
     "iopub.status.idle": "2025-06-10T13:44:49.385968Z",
     "shell.execute_reply": "2025-06-10T13:44:49.385075Z",
     "shell.execute_reply.started": "2025-06-10T13:44:49.381309Z"
    },
    "trusted": true
   },
   "outputs": [
    {
     "name": "stdout",
     "output_type": "stream",
     "text": [
      "dict_values(['#FF0000', '#00FF00', '#0000FF'])\n"
     ]
    }
   ],
   "source": [
    "#7\n",
    "colors={\n",
    "    'red':'#FF0000',\n",
    "    'green':'#00FF00',\n",
    "    'blue':'#0000FF'\n",
    "}\n",
    "print(colors.values())"
   ]
  },
  {
   "cell_type": "code",
   "execution_count": 12,
   "metadata": {
    "execution": {
     "iopub.execute_input": "2025-06-10T13:48:20.120686Z",
     "iopub.status.busy": "2025-06-10T13:48:20.120393Z",
     "iopub.status.idle": "2025-06-10T13:48:20.125666Z",
     "shell.execute_reply": "2025-06-10T13:48:20.124882Z",
     "shell.execute_reply.started": "2025-06-10T13:48:20.120655Z"
    },
    "trusted": true
   },
   "outputs": [
    {
     "name": "stdout",
     "output_type": "stream",
     "text": [
      "5\n",
      "{'pen': 2, 'eraser': 1}\n"
     ]
    }
   ],
   "source": [
    "#8\n",
    "items={\n",
    "    'pen':2,\n",
    "    'pencil':5,\n",
    "    'eraser':1\n",
    "}\n",
    "a=items.pop(\"pencil\")\n",
    "print(a)\n",
    "print(items)"
   ]
  },
  {
   "cell_type": "code",
   "execution_count": 13,
   "metadata": {
    "execution": {
     "iopub.execute_input": "2025-06-10T13:50:22.420837Z",
     "iopub.status.busy": "2025-06-10T13:50:22.420529Z",
     "iopub.status.idle": "2025-06-10T13:50:22.425313Z",
     "shell.execute_reply": "2025-06-10T13:50:22.424503Z",
     "shell.execute_reply.started": "2025-06-10T13:50:22.420813Z"
    },
    "trusted": true
   },
   "outputs": [
    {
     "name": "stdout",
     "output_type": "stream",
     "text": [
      "None\n"
     ]
    }
   ],
   "source": [
    "#9\n",
    "items={\n",
    "    'pen':2,\n",
    "    'pencil':5,\n",
    "    'eraser':1\n",
    "}\n",
    "print(items.get(\"marker\"))"
   ]
  },
  {
   "cell_type": "code",
   "execution_count": 14,
   "metadata": {
    "execution": {
     "iopub.execute_input": "2025-06-10T13:51:53.375565Z",
     "iopub.status.busy": "2025-06-10T13:51:53.375273Z",
     "iopub.status.idle": "2025-06-10T13:51:53.380450Z",
     "shell.execute_reply": "2025-06-10T13:51:53.379639Z",
     "shell.execute_reply.started": "2025-06-10T13:51:53.375543Z"
    },
    "trusted": true
   },
   "outputs": [
    {
     "name": "stdout",
     "output_type": "stream",
     "text": [
      "('Toyota', 2020)\n"
     ]
    }
   ],
   "source": [
    "#10\n",
    "car_models={\n",
    "    \"BMW\":2004,\n",
    "    \"Mercedes\":2010,\n",
    "    \"Toyota\":2020\n",
    "}\n",
    "print(car_models.popitem())"
   ]
  },
  {
   "cell_type": "code",
   "execution_count": 15,
   "metadata": {
    "execution": {
     "iopub.execute_input": "2025-06-10T13:53:49.200976Z",
     "iopub.status.busy": "2025-06-10T13:53:49.200445Z",
     "iopub.status.idle": "2025-06-10T13:53:49.205268Z",
     "shell.execute_reply": "2025-06-10T13:53:49.204472Z",
     "shell.execute_reply.started": "2025-06-10T13:53:49.200948Z"
    },
    "trusted": true
   },
   "outputs": [
    {
     "name": "stdout",
     "output_type": "stream",
     "text": [
      "{}\n"
     ]
    }
   ],
   "source": [
    "#11\n",
    "books={\n",
    "    1:\"Atomic Habits\",\n",
    "    2:\"Tom Sawyer\",\n",
    "    3:\"Harry Poter\"\n",
    "}\n",
    "books.clear()\n",
    "print(books)"
   ]
  },
  {
   "cell_type": "code",
   "execution_count": 16,
   "metadata": {
    "execution": {
     "iopub.execute_input": "2025-06-10T13:55:36.262272Z",
     "iopub.status.busy": "2025-06-10T13:55:36.261946Z",
     "iopub.status.idle": "2025-06-10T13:55:36.331132Z",
     "shell.execute_reply": "2025-06-10T13:55:36.330196Z",
     "shell.execute_reply.started": "2025-06-10T13:55:36.262248Z"
    },
    "trusted": true
   },
   "outputs": [
    {
     "ename": "NameError",
     "evalue": "name 'tools' is not defined",
     "output_type": "error",
     "traceback": [
      "\u001b[0;31m---------------------------------------------------------------------------\u001b[0m",
      "\u001b[0;31mNameError\u001b[0m                                 Traceback (most recent call last)",
      "\u001b[0;32m/tmp/ipykernel_35/3024376088.py\u001b[0m in \u001b[0;36m<cell line: 0>\u001b[0;34m()\u001b[0m\n\u001b[1;32m      6\u001b[0m }\n\u001b[1;32m      7\u001b[0m \u001b[0;32mdel\u001b[0m \u001b[0mtools\u001b[0m\u001b[0;34m\u001b[0m\u001b[0;34m\u001b[0m\u001b[0m\n\u001b[0;32m----> 8\u001b[0;31m \u001b[0mprint\u001b[0m\u001b[0;34m(\u001b[0m\u001b[0mtools\u001b[0m\u001b[0;34m)\u001b[0m\u001b[0;34m\u001b[0m\u001b[0;34m\u001b[0m\u001b[0m\n\u001b[0m",
      "\u001b[0;31mNameError\u001b[0m: name 'tools' is not defined"
     ]
    }
   ],
   "source": [
    "#12\n",
    "tools={\n",
    "    1:\"hammer\",\n",
    "    2:\"screw-driver\",\n",
    "    3:\"chainsaw\"\n",
    "}\n",
    "del tools\n",
    "print(tools)"
   ]
  },
  {
   "cell_type": "code",
   "execution_count": 17,
   "metadata": {
    "execution": {
     "iopub.execute_input": "2025-06-10T13:57:24.355798Z",
     "iopub.status.busy": "2025-06-10T13:57:24.355508Z",
     "iopub.status.idle": "2025-06-10T13:57:24.360691Z",
     "shell.execute_reply": "2025-06-10T13:57:24.359874Z",
     "shell.execute_reply.started": "2025-06-10T13:57:24.355778Z"
    },
    "trusted": true
   },
   "outputs": [
    {
     "name": "stdout",
     "output_type": "stream",
     "text": [
      "{'name': 'John', 'age': 25, 'city': 'NYC'}\n"
     ]
    }
   ],
   "source": [
    "#13\n",
    "list1=['name', 'age', 'city']\n",
    "list2=['John', 25, 'NYC']\n",
    "a= zip(list1, list2)\n",
    "print(dict(a))"
   ]
  },
  {
   "cell_type": "code",
   "execution_count": null,
   "metadata": {
    "trusted": true
   },
   "outputs": [],
   "source": [
    "#14\n",
    "words= input(\"Enter 5 words: \").split(\" \")\n",
    "w1= words[0]"
   ]
  },
  {
   "cell_type": "code",
   "execution_count": null,
   "metadata": {
    "trusted": true
   },
   "outputs": [],
   "source": [
    "#15\n",
    "nums={\n",
    "    'x':10,\n",
    "    'y':20,\n",
    "    'z':30\n",
    "}\n"
   ]
  },
  {
   "cell_type": "code",
   "execution_count": 20,
   "metadata": {
    "execution": {
     "iopub.execute_input": "2025-06-10T14:06:59.715922Z",
     "iopub.status.busy": "2025-06-10T14:06:59.715157Z",
     "iopub.status.idle": "2025-06-10T14:06:59.720513Z",
     "shell.execute_reply": "2025-06-10T14:06:59.719632Z",
     "shell.execute_reply.started": "2025-06-10T14:06:59.715894Z"
    },
    "trusted": true
   },
   "outputs": [
    {
     "name": "stdout",
     "output_type": "stream",
     "text": [
      "3\n"
     ]
    }
   ],
   "source": [
    "#16\n",
    "movies={\n",
    "    \"Heat\":1995,\n",
    "    \"Rush Hour\":2010,\n",
    "    \"Paan Singh Tomar\":2015\n",
    "}\n",
    "print(len(movies))"
   ]
  },
  {
   "cell_type": "code",
   "execution_count": 19,
   "metadata": {
    "execution": {
     "iopub.execute_input": "2025-06-10T14:04:36.355977Z",
     "iopub.status.busy": "2025-06-10T14:04:36.355370Z",
     "iopub.status.idle": "2025-06-10T14:04:36.360237Z",
     "shell.execute_reply": "2025-06-10T14:04:36.359446Z",
     "shell.execute_reply.started": "2025-06-10T14:04:36.355946Z"
    },
    "trusted": true
   },
   "outputs": [
    {
     "name": "stdout",
     "output_type": "stream",
     "text": [
      "True\n"
     ]
    }
   ],
   "source": [
    "#17\n",
    "langs= {'java':1995, 'python':1991, 'C++':1985}\n",
    "print('python' in langs)"
   ]
  },
  {
   "cell_type": "code",
   "execution_count": null,
   "metadata": {
    "trusted": true
   },
   "outputs": [],
   "source": [
    "#18"
   ]
  },
  {
   "cell_type": "code",
   "execution_count": null,
   "metadata": {
    "trusted": true
   },
   "outputs": [],
   "source": [
    "#19"
   ]
  },
  {
   "cell_type": "code",
   "execution_count": 18,
   "metadata": {
    "execution": {
     "iopub.execute_input": "2025-06-10T14:02:28.656582Z",
     "iopub.status.busy": "2025-06-10T14:02:28.656282Z",
     "iopub.status.idle": "2025-06-10T14:02:28.661695Z",
     "shell.execute_reply": "2025-06-10T14:02:28.660906Z",
     "shell.execute_reply.started": "2025-06-10T14:02:28.656561Z"
    },
    "trusted": true
   },
   "outputs": [
    {
     "name": "stdout",
     "output_type": "stream",
     "text": [
      "35\n",
      "25\n"
     ]
    }
   ],
   "source": [
    "#20\n",
    "person= {\n",
    "    \"name\": \"Alex\",\n",
    "    \"age\": 25\n",
    "}\n",
    "\n",
    "person_2= person.copy()\n",
    "person[\"age\"]= 35\n",
    "print(person[\"age\"])\n",
    "print(person_2[\"age\"])\n"
   ]
  }
 ],
 "metadata": {
  "kaggle": {
   "accelerator": "none",
   "dataSources": [],
   "dockerImageVersionId": 31040,
   "isGpuEnabled": false,
   "isInternetEnabled": false,
   "language": "python",
   "sourceType": "notebook"
  },
  "kernelspec": {
   "display_name": "Python 3",
   "language": "python",
   "name": "python3"
  },
  "language_info": {
   "codemirror_mode": {
    "name": "ipython",
    "version": 3
   },
   "file_extension": ".py",
   "mimetype": "text/x-python",
   "name": "python",
   "nbconvert_exporter": "python",
   "pygments_lexer": "ipython3",
   "version": "3.11.11"
  }
 },
 "nbformat": 4,
 "nbformat_minor": 4
}

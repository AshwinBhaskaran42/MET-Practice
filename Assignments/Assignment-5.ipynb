{
 "cells": [
  {
   "cell_type": "code",
   "execution_count": 1,
   "id": "caa0f61d",
   "metadata": {},
   "outputs": [
    {
     "name": "stdout",
     "output_type": "stream",
     "text": [
      "dragon\n"
     ]
    }
   ],
   "source": [
    "#1.\n",
    "fruits=[['jack','apple'],['orange','kiwi'],['dragon','grape']]\n",
    "print(fruits[2][0])"
   ]
  },
  {
   "cell_type": "code",
   "execution_count": 6,
   "id": "c19fdde8",
   "metadata": {},
   "outputs": [
    {
     "name": "stdout",
     "output_type": "stream",
     "text": [
      "5\n"
     ]
    }
   ],
   "source": [
    "#2\n",
    "coordinates= ((0, 1), (2, 3), (4, 5))\n",
    "print(coordinates[2][1])"
   ]
  },
  {
   "cell_type": "code",
   "execution_count": 7,
   "id": "be220a82",
   "metadata": {},
   "outputs": [
    {
     "name": "stdout",
     "output_type": "stream",
     "text": [
      "21\n"
     ]
    }
   ],
   "source": [
    "#3\n",
    "students= [('Alice', 23), ('Bob', 21)]\n",
    "print(students[1][1])"
   ]
  },
  {
   "cell_type": "code",
   "execution_count": 8,
   "id": "853d5c41",
   "metadata": {},
   "outputs": [
    {
     "name": "stdout",
     "output_type": "stream",
     "text": [
      "40\n"
     ]
    }
   ],
   "source": [
    "#4\n",
    "Nums= ([10, 20], [30, 40])\n",
    "print(Nums[1][1])"
   ]
  },
  {
   "cell_type": "code",
   "execution_count": 11,
   "id": "681a7655",
   "metadata": {},
   "outputs": [
    {
     "name": "stdout",
     "output_type": "stream",
     "text": [
      "John\n"
     ]
    }
   ],
   "source": [
    "#5\n",
    "students=[\n",
    "    {\n",
    "        \"name\":\"John\",\n",
    "        \"age\":23,\n",
    "        \"marks\":50\n",
    "    },\n",
    "    {\n",
    "        \"name\":\"Samson\",\n",
    "        \"age\":24,\n",
    "        \"marks\":60\n",
    "    }\n",
    "]\n",
    "print(students[0].get(\"name\"))"
   ]
  },
  {
   "cell_type": "code",
   "execution_count": 15,
   "id": "9e74c086",
   "metadata": {},
   "outputs": [
    {
     "name": "stdout",
     "output_type": "stream",
     "text": [
      "68\n"
     ]
    }
   ],
   "source": [
    "#6\n",
    "subject_marks={\n",
    "    \"English\":[50,60,70],\n",
    "    \"Maths\":[40,68,80],\n",
    "    \"Science\":[55,60,78]\n",
    "}\n",
    "print(subject_marks[\"Maths\"][1])"
   ]
  },
  {
   "cell_type": "code",
   "execution_count": 18,
   "id": "d3261c8f",
   "metadata": {},
   "outputs": [
    {
     "name": "stdout",
     "output_type": "stream",
     "text": [
      "{'name': 'Alice', 'age': 20, 'marks': 50}\n"
     ]
    }
   ],
   "source": [
    "#7\n",
    "users={\"alice\":{\n",
    "        \"name\":\"Alice\",\n",
    "        \"age\":20,\n",
    "        \"marks\":50\n",
    "    },\n",
    "    \"John\":{\n",
    "        \"name\":\"John\",\n",
    "        \"age\":30,\n",
    "        \"marks\":66\n",
    "    }\n",
    "}\n",
    "print(users[\"alice\"])"
   ]
  },
  {
   "cell_type": "code",
   "execution_count": 19,
   "id": "2ed19dab",
   "metadata": {},
   "outputs": [
    {
     "name": "stdout",
     "output_type": "stream",
     "text": [
      "success\n"
     ]
    }
   ],
   "source": [
    "#8\n",
    "billing_history= [\n",
    "    {\n",
    "        \"amount\":\"200\",\n",
    "        \"status\":\"failed\"\n",
    "    },\n",
    "    {\n",
    "        \"amount\":\"832\",\n",
    "        \"status\":\"success\"\n",
    "    }\n",
    "]\n",
    "print(billing_history[1][\"status\"])"
   ]
  },
  {
   "cell_type": "code",
   "execution_count": 20,
   "id": "350c9202",
   "metadata": {},
   "outputs": [
    {
     "name": "stdout",
     "output_type": "stream",
     "text": [
      "200\n"
     ]
    }
   ],
   "source": [
    "#9\n",
    "billing_history= [\n",
    "    {\n",
    "        \"amount\":\"200\",\n",
    "        \"status\":\"failed\"\n",
    "    },\n",
    "    {\n",
    "        \"amount\":\"832\",\n",
    "        \"status\":\"success\"\n",
    "    }\n",
    "]\n",
    "print(billing_history[0][\"amount\"])"
   ]
  },
  {
   "cell_type": "code",
   "execution_count": 22,
   "id": "3c28e5a0",
   "metadata": {},
   "outputs": [
    {
     "name": "stdout",
     "output_type": "stream",
     "text": [
      "37\n"
     ]
    }
   ],
   "source": [
    "#10\n",
    "List1=[(\"hyderabad\",35),(\"Vizag\",36),(\"Mumbai\",37)]\n",
    "print(List1[2][1])"
   ]
  },
  {
   "cell_type": "code",
   "execution_count": 24,
   "id": "0a1b1bec",
   "metadata": {},
   "outputs": [
    {
     "name": "stdout",
     "output_type": "stream",
     "text": [
      "70\n"
     ]
    }
   ],
   "source": [
    "#11\n",
    "users={\n",
    "    \"John\":[10,20,30],\n",
    "    \"Alex\":[60,50,40],\n",
    "    \"Samson\":[20,60,70]\n",
    "}\n",
    "print(users[\"Samson\"][2])"
   ]
  },
  {
   "cell_type": "code",
   "execution_count": 25,
   "id": "d5d04e43",
   "metadata": {},
   "outputs": [
    {
     "name": "stdout",
     "output_type": "stream",
     "text": [
      "Radio\n"
     ]
    }
   ],
   "source": [
    "#12\n",
    "List2=[\n",
    "    {\n",
    "        \"product\":\"TV\",\n",
    "        \"price\":55000\n",
    "    },\n",
    "    {\n",
    "        \"product\":\"Radio\",\n",
    "        \"price\":15000\n",
    "    }\n",
    "]\n",
    "print(List2[1][\"product\"])"
   ]
  },
  {
   "cell_type": "code",
   "execution_count": 26,
   "id": "5d1acb5a",
   "metadata": {},
   "outputs": [
    {
     "name": "stdout",
     "output_type": "stream",
     "text": [
      "60\n"
     ]
    }
   ],
   "source": [
    "#13\n",
    "List3=[(\"English\",[10,20,30]),(\"Maths\",[20,30,40]),(\"Science\",[50,60,70])]\n",
    "print(List3[2][1][1])"
   ]
  },
  {
   "cell_type": "code",
   "execution_count": 28,
   "id": "29af916a",
   "metadata": {},
   "outputs": [
    {
     "name": "stdout",
     "output_type": "stream",
     "text": [
      "assignment\n"
     ]
    }
   ],
   "source": [
    "#14\n",
    "days={\n",
    "    \"Monday\":(\"assignment\",\"washing\"),\n",
    "    \"Tuesday\":(\"cleaning\",\"cricket\")\n",
    "}\n",
    "print(days[\"Monday\"][0])"
   ]
  },
  {
   "cell_type": "code",
   "execution_count": 4,
   "id": "4d994707",
   "metadata": {},
   "outputs": [
    {
     "name": "stdout",
     "output_type": "stream",
     "text": [
      "60\n"
     ]
    }
   ],
   "source": [
    "#15\n",
    "Student_Marks=[\n",
    "    {\n",
    "        \"John\":{\n",
    "            \"English\":50,\n",
    "            \"Maths\":60\n",
    "        }\n",
    "    },\n",
    "    {\n",
    "        \"Alex\":{\n",
    "        \"Maths\":70,\n",
    "        \"Englishs\":60\n",
    "    }\n",
    "    }\n",
    "]\n",
    "print(Student_Marks[0][\"John\"][\"Maths\"])\n"
   ]
  }
 ],
 "metadata": {
  "kernelspec": {
   "display_name": "Python 3",
   "language": "python",
   "name": "python3"
  },
  "language_info": {
   "codemirror_mode": {
    "name": "ipython",
    "version": 3
   },
   "file_extension": ".py",
   "mimetype": "text/x-python",
   "name": "python",
   "nbconvert_exporter": "python",
   "pygments_lexer": "ipython3",
   "version": "3.11.5"
  }
 },
 "nbformat": 4,
 "nbformat_minor": 5
}

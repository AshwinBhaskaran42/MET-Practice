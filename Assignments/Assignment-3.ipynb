{
 "cells": [
  {
   "cell_type": "code",
   "execution_count": 1,
   "metadata": {
    "_cell_guid": "b1076dfc-b9ad-4769-8c92-a6c4dae69d19",
    "_uuid": "8f2839f25d086af736a60e9eeb907d3b93b6e0e5",
    "execution": {
     "iopub.execute_input": "2025-06-06T13:08:16.111877Z",
     "iopub.status.busy": "2025-06-06T13:08:16.111555Z",
     "iopub.status.idle": "2025-06-06T13:08:16.120969Z",
     "shell.execute_reply": "2025-06-06T13:08:16.120083Z",
     "shell.execute_reply.started": "2025-06-06T13:08:16.111851Z"
    },
    "trusted": true
   },
   "outputs": [
    {
     "name": "stdout",
     "output_type": "stream",
     "text": [
      "{'C', 'python', 'java'}\n"
     ]
    }
   ],
   "source": [
    "#1\n",
    "s1= {\"python\", \"java\", \"C\"}\n",
    "print(s1)"
   ]
  },
  {
   "cell_type": "code",
   "execution_count": 27,
   "metadata": {
    "execution": {
     "iopub.execute_input": "2025-06-06T13:31:19.615432Z",
     "iopub.status.busy": "2025-06-06T13:31:19.615137Z",
     "iopub.status.idle": "2025-06-06T13:31:28.500472Z",
     "shell.execute_reply": "2025-06-06T13:31:28.499529Z",
     "shell.execute_reply.started": "2025-06-06T13:31:19.615407Z"
    },
    "trusted": true
   },
   "outputs": [
    {
     "name": "stdout",
     "output_type": "stream",
     "text": [
      "Enter the Hobbies separated by spaces:  painting singing dancing\n"
     ]
    },
    {
     "name": "stdout",
     "output_type": "stream",
     "text": [
      "{'painting', 'dancing', 'singing'}\n"
     ]
    }
   ],
   "source": [
    "#2\n",
    "hobbies = input(\"Enter the Hobbies separated by spaces: \").split(\" \")\n",
    "a = set(hobbies)\n",
    "print(a)"
   ]
  },
  {
   "cell_type": "code",
   "execution_count": 3,
   "metadata": {
    "execution": {
     "iopub.execute_input": "2025-06-06T13:11:07.376851Z",
     "iopub.status.busy": "2025-06-06T13:11:07.376503Z",
     "iopub.status.idle": "2025-06-06T13:11:07.381989Z",
     "shell.execute_reply": "2025-06-06T13:11:07.381070Z",
     "shell.execute_reply.started": "2025-06-06T13:11:07.376822Z"
    },
    "trusted": true
   },
   "outputs": [
    {
     "name": "stdout",
     "output_type": "stream",
     "text": [
      "{'green', 'yellow', 'red', 'blue'}\n"
     ]
    }
   ],
   "source": [
    "#3\n",
    "colours={'red', 'blue', 'green'}\n",
    "colours.add('yellow')\n",
    "print(colours)"
   ]
  },
  {
   "cell_type": "code",
   "execution_count": 4,
   "metadata": {
    "execution": {
     "iopub.execute_input": "2025-06-06T13:12:09.627867Z",
     "iopub.status.busy": "2025-06-06T13:12:09.627541Z",
     "iopub.status.idle": "2025-06-06T13:12:09.632734Z",
     "shell.execute_reply": "2025-06-06T13:12:09.631836Z",
     "shell.execute_reply.started": "2025-06-06T13:12:09.627842Z"
    },
    "trusted": true
   },
   "outputs": [
    {
     "name": "stdout",
     "output_type": "stream",
     "text": [
      "{'apple', 'cherry', 'banana'}\n"
     ]
    }
   ],
   "source": [
    "#4\n",
    "s1= {'apple', 'banana'}\n",
    "s2= {'banana', 'cherry'}\n",
    "s1.update(s2)\n",
    "print(s1)"
   ]
  },
  {
   "cell_type": "code",
   "execution_count": 6,
   "metadata": {
    "execution": {
     "iopub.execute_input": "2025-06-06T13:15:44.081254Z",
     "iopub.status.busy": "2025-06-06T13:15:44.080928Z",
     "iopub.status.idle": "2025-06-06T13:15:44.086783Z",
     "shell.execute_reply": "2025-06-06T13:15:44.085455Z",
     "shell.execute_reply.started": "2025-06-06T13:15:44.081225Z"
    },
    "trusted": true
   },
   "outputs": [
    {
     "name": "stdout",
     "output_type": "stream",
     "text": [
      "{'trichi', 'vizag', 'mumbai', 'hyderabad', 'manipal'}\n"
     ]
    }
   ],
   "source": [
    "#5\n",
    "c1= {'hyderabad', 'vizag', 'mumbai'}\n",
    "c2= {'vizag', 'manipal', 'trichi'}\n",
    "print(c1|c2)\n"
   ]
  },
  {
   "cell_type": "code",
   "execution_count": 7,
   "metadata": {
    "execution": {
     "iopub.execute_input": "2025-06-06T13:16:32.479501Z",
     "iopub.status.busy": "2025-06-06T13:16:32.479214Z",
     "iopub.status.idle": "2025-06-06T13:16:32.484713Z",
     "shell.execute_reply": "2025-06-06T13:16:32.483660Z",
     "shell.execute_reply.started": "2025-06-06T13:16:32.479476Z"
    },
    "trusted": true
   },
   "outputs": [
    {
     "name": "stdout",
     "output_type": "stream",
     "text": [
      "{'mike', 'john'}\n"
     ]
    }
   ],
   "source": [
    "#6\n",
    "s1= {'alex', 'john', 'mike'}\n",
    "s2= {'john', 'mike', 'lisa'}\n",
    "print(s1&s2)"
   ]
  },
  {
   "cell_type": "code",
   "execution_count": 9,
   "metadata": {
    "execution": {
     "iopub.execute_input": "2025-06-06T13:17:45.351516Z",
     "iopub.status.busy": "2025-06-06T13:17:45.351215Z",
     "iopub.status.idle": "2025-06-06T13:17:45.356714Z",
     "shell.execute_reply": "2025-06-06T13:17:45.355814Z",
     "shell.execute_reply.started": "2025-06-06T13:17:45.351489Z"
    },
    "trusted": true
   },
   "outputs": [
    {
     "name": "stdout",
     "output_type": "stream",
     "text": [
      "{'eraser', 'pen'}\n"
     ]
    }
   ],
   "source": [
    "#7\n",
    "items = {'pen', 'pencil', 'eraser'}\n",
    "items.discard(\"pencil\")\n",
    "print(items)"
   ]
  },
  {
   "cell_type": "code",
   "execution_count": 10,
   "metadata": {
    "execution": {
     "iopub.execute_input": "2025-06-06T13:18:35.600221Z",
     "iopub.status.busy": "2025-06-06T13:18:35.599537Z",
     "iopub.status.idle": "2025-06-06T13:18:35.674160Z",
     "shell.execute_reply": "2025-06-06T13:18:35.672919Z",
     "shell.execute_reply.started": "2025-06-06T13:18:35.600187Z"
    },
    "trusted": true
   },
   "outputs": [
    {
     "ename": "KeyError",
     "evalue": "'marker'",
     "output_type": "error",
     "traceback": [
      "\u001b[0;31m---------------------------------------------------------------------------\u001b[0m",
      "\u001b[0;31mKeyError\u001b[0m                                  Traceback (most recent call last)",
      "\u001b[0;32m/tmp/ipykernel_35/3836535268.py\u001b[0m in \u001b[0;36m<cell line: 0>\u001b[0;34m()\u001b[0m\n\u001b[1;32m      1\u001b[0m \u001b[0;31m#8\u001b[0m\u001b[0;34m\u001b[0m\u001b[0;34m\u001b[0m\u001b[0m\n\u001b[1;32m      2\u001b[0m \u001b[0mitems\u001b[0m \u001b[0;34m=\u001b[0m \u001b[0;34m{\u001b[0m\u001b[0;34m'pen'\u001b[0m\u001b[0;34m,\u001b[0m \u001b[0;34m'pencil'\u001b[0m\u001b[0;34m,\u001b[0m \u001b[0;34m'eraser'\u001b[0m\u001b[0;34m}\u001b[0m\u001b[0;34m\u001b[0m\u001b[0;34m\u001b[0m\u001b[0m\n\u001b[0;32m----> 3\u001b[0;31m \u001b[0mitems\u001b[0m\u001b[0;34m.\u001b[0m\u001b[0mremove\u001b[0m\u001b[0;34m(\u001b[0m\u001b[0;34m\"marker\"\u001b[0m\u001b[0;34m)\u001b[0m\u001b[0;34m\u001b[0m\u001b[0;34m\u001b[0m\u001b[0m\n\u001b[0m\u001b[1;32m      4\u001b[0m \u001b[0mprint\u001b[0m\u001b[0;34m(\u001b[0m\u001b[0mitems\u001b[0m\u001b[0;34m)\u001b[0m\u001b[0;34m\u001b[0m\u001b[0;34m\u001b[0m\u001b[0m\n",
      "\u001b[0;31mKeyError\u001b[0m: 'marker'"
     ]
    }
   ],
   "source": [
    "#8\n",
    "items = {'pen', 'pencil', 'eraser'}\n",
    "items.remove(\"marker\")\n",
    "print(items)"
   ]
  },
  {
   "cell_type": "code",
   "execution_count": 11,
   "metadata": {
    "execution": {
     "iopub.execute_input": "2025-06-06T13:20:36.315717Z",
     "iopub.status.busy": "2025-06-06T13:20:36.315408Z",
     "iopub.status.idle": "2025-06-06T13:20:36.321433Z",
     "shell.execute_reply": "2025-06-06T13:20:36.320468Z",
     "shell.execute_reply.started": "2025-06-06T13:20:36.315692Z"
    },
    "trusted": true
   },
   "outputs": [
    {
     "name": "stdout",
     "output_type": "stream",
     "text": [
      "{'wednesday', 'thursday', 'friday', 'monday'}\n"
     ]
    }
   ],
   "source": [
    "#9\n",
    "weekdays= {'monday', 'tuesday', 'wednesday', 'thursday', 'friday'}\n",
    "weekdays.pop()\n",
    "print(weekdays)\n"
   ]
  },
  {
   "cell_type": "code",
   "execution_count": 12,
   "metadata": {
    "execution": {
     "iopub.execute_input": "2025-06-06T13:21:47.438273Z",
     "iopub.status.busy": "2025-06-06T13:21:47.437986Z",
     "iopub.status.idle": "2025-06-06T13:21:47.443418Z",
     "shell.execute_reply": "2025-06-06T13:21:47.442583Z",
     "shell.execute_reply.started": "2025-06-06T13:21:47.438250Z"
    },
    "trusted": true
   },
   "outputs": [
    {
     "name": "stdout",
     "output_type": "stream",
     "text": [
      "set()\n"
     ]
    }
   ],
   "source": [
    "#10\n",
    "brands={'volkswagon', 'tata', 'mahindra', 'toyota', 'mercedes'}\n",
    "brands.clear()\n",
    "print(brands)\n"
   ]
  },
  {
   "cell_type": "code",
   "execution_count": 14,
   "metadata": {
    "execution": {
     "iopub.execute_input": "2025-06-06T13:23:05.533534Z",
     "iopub.status.busy": "2025-06-06T13:23:05.533227Z",
     "iopub.status.idle": "2025-06-06T13:23:05.542721Z",
     "shell.execute_reply": "2025-06-06T13:23:05.541644Z",
     "shell.execute_reply.started": "2025-06-06T13:23:05.533510Z"
    },
    "trusted": true
   },
   "outputs": [
    {
     "ename": "NameError",
     "evalue": "name 'tools' is not defined",
     "output_type": "error",
     "traceback": [
      "\u001b[0;31m---------------------------------------------------------------------------\u001b[0m",
      "\u001b[0;31mNameError\u001b[0m                                 Traceback (most recent call last)",
      "\u001b[0;32m/tmp/ipykernel_35/3640451720.py\u001b[0m in \u001b[0;36m<cell line: 0>\u001b[0;34m()\u001b[0m\n\u001b[1;32m      2\u001b[0m \u001b[0mtools\u001b[0m\u001b[0;34m=\u001b[0m \u001b[0;34m{\u001b[0m\u001b[0;34m'hammer'\u001b[0m\u001b[0;34m,\u001b[0m \u001b[0;34m'screw-driver'\u001b[0m\u001b[0;34m,\u001b[0m \u001b[0;34m'wrench'\u001b[0m\u001b[0;34m,\u001b[0m \u001b[0;34m'hand-saw'\u001b[0m\u001b[0;34m}\u001b[0m\u001b[0;34m\u001b[0m\u001b[0;34m\u001b[0m\u001b[0m\n\u001b[1;32m      3\u001b[0m \u001b[0;32mdel\u001b[0m \u001b[0mtools\u001b[0m\u001b[0;34m\u001b[0m\u001b[0;34m\u001b[0m\u001b[0m\n\u001b[0;32m----> 4\u001b[0;31m \u001b[0mprint\u001b[0m\u001b[0;34m(\u001b[0m\u001b[0mtools\u001b[0m\u001b[0;34m)\u001b[0m\u001b[0;34m\u001b[0m\u001b[0;34m\u001b[0m\u001b[0m\n\u001b[0m",
      "\u001b[0;31mNameError\u001b[0m: name 'tools' is not defined"
     ]
    }
   ],
   "source": [
    "#11\n",
    "tools= {'hammer', 'screw-driver', 'wrench', 'hand-saw'}\n",
    "del tools\n",
    "print(tools)"
   ]
  },
  {
   "cell_type": "code",
   "execution_count": 15,
   "metadata": {
    "execution": {
     "iopub.execute_input": "2025-06-06T13:23:42.354121Z",
     "iopub.status.busy": "2025-06-06T13:23:42.353800Z",
     "iopub.status.idle": "2025-06-06T13:23:42.359340Z",
     "shell.execute_reply": "2025-06-06T13:23:42.358374Z",
     "shell.execute_reply.started": "2025-06-06T13:23:42.354094Z"
    },
    "trusted": true
   },
   "outputs": [
    {
     "name": "stdout",
     "output_type": "stream",
     "text": [
      "{'l', 'o', 'e', 'h'}\n"
     ]
    }
   ],
   "source": [
    "#12\n",
    "string= \"hello\"\n",
    "my_set= set(string)\n",
    "print(my_set)\n"
   ]
  },
  {
   "cell_type": "code",
   "execution_count": 17,
   "metadata": {
    "execution": {
     "iopub.execute_input": "2025-06-06T13:25:27.668221Z",
     "iopub.status.busy": "2025-06-06T13:25:27.667922Z",
     "iopub.status.idle": "2025-06-06T13:25:37.107276Z",
     "shell.execute_reply": "2025-06-06T13:25:37.106417Z",
     "shell.execute_reply.started": "2025-06-06T13:25:27.668200Z"
    },
    "trusted": true
   },
   "outputs": [
    {
     "name": "stdout",
     "output_type": "stream",
     "text": [
      "Enter Five Words: one two three four five\n"
     ]
    },
    {
     "name": "stdout",
     "output_type": "stream",
     "text": [
      "{'one', 'two', 'five', 'four', 'three'}\n"
     ]
    }
   ],
   "source": [
    "#13\n",
    "user = input(\"Enter Five Words:\").split(\" \")\n",
    "a = set(user)\n",
    "print(a)\n"
   ]
  },
  {
   "cell_type": "code",
   "execution_count": 19,
   "metadata": {
    "execution": {
     "iopub.execute_input": "2025-06-06T13:26:42.458205Z",
     "iopub.status.busy": "2025-06-06T13:26:42.457875Z",
     "iopub.status.idle": "2025-06-06T13:26:42.463875Z",
     "shell.execute_reply": "2025-06-06T13:26:42.462767Z",
     "shell.execute_reply.started": "2025-06-06T13:26:42.458178Z"
    },
    "trusted": true
   },
   "outputs": [
    {
     "name": "stdout",
     "output_type": "stream",
     "text": [
      "{'a', 'b'}\n"
     ]
    }
   ],
   "source": [
    "#14\n",
    "A = {'a', 'b', 'c'}\n",
    "B = {'c', 'd', 'e'}\n",
    "unique_to_A= A.difference(B)\n",
    "print(unique_to_A)"
   ]
  },
  {
   "cell_type": "code",
   "execution_count": 23,
   "metadata": {
    "execution": {
     "iopub.execute_input": "2025-06-06T13:29:25.949689Z",
     "iopub.status.busy": "2025-06-06T13:29:25.949374Z",
     "iopub.status.idle": "2025-06-06T13:29:25.954599Z",
     "shell.execute_reply": "2025-06-06T13:29:25.953793Z",
     "shell.execute_reply.started": "2025-06-06T13:29:25.949664Z"
    },
    "trusted": true
   },
   "outputs": [
    {
     "name": "stdout",
     "output_type": "stream",
     "text": [
      "5\n"
     ]
    }
   ],
   "source": [
    "#15\n",
    "items= {'chair', 'table', 'fan', 'fridge'}\n",
    "items.add(\"TV\")\n",
    "print(len(items))"
   ]
  }
 ],
 "metadata": {
  "kaggle": {
   "accelerator": "none",
   "dataSources": [],
   "dockerImageVersionId": 31040,
   "isGpuEnabled": false,
   "isInternetEnabled": false,
   "language": "python",
   "sourceType": "notebook"
  },
  "kernelspec": {
   "display_name": "Python 3",
   "language": "python",
   "name": "python3"
  },
  "language_info": {
   "codemirror_mode": {
    "name": "ipython",
    "version": 3
   },
   "file_extension": ".py",
   "mimetype": "text/x-python",
   "name": "python",
   "nbconvert_exporter": "python",
   "pygments_lexer": "ipython3",
   "version": "3.11.11"
  }
 },
 "nbformat": 4,
 "nbformat_minor": 4
}

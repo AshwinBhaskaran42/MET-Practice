{
 "cells": [
  {
   "cell_type": "code",
   "execution_count": 3,
   "metadata": {
    "_cell_guid": "b1076dfc-b9ad-4769-8c92-a6c4dae69d19",
    "_uuid": "8f2839f25d086af736a60e9eeb907d3b93b6e0e5",
    "execution": {
     "iopub.execute_input": "2025-06-04T13:33:29.459778Z",
     "iopub.status.busy": "2025-06-04T13:33:29.459377Z",
     "iopub.status.idle": "2025-06-04T13:33:41.729110Z",
     "shell.execute_reply": "2025-06-04T13:33:41.728042Z",
     "shell.execute_reply.started": "2025-06-04T13:33:29.459748Z"
    },
    "trusted": true
   },
   "outputs": [
    {
     "name": "stdout",
     "output_type": "stream",
     "text": [
      "Enter your full name:  John Doe\n"
     ]
    },
    {
     "name": "stdout",
     "output_type": "stream",
     "text": [
      "John\n"
     ]
    }
   ],
   "source": [
    "#1\n",
    "full_name = input(\"Enter your full name: \")\n",
    "first_space=full_name.find(\" \")\n",
    "first_name= full_name[:first_space]\n",
    "print(first_name)"
   ]
  },
  {
   "cell_type": "code",
   "execution_count": 4,
   "metadata": {
    "execution": {
     "iopub.execute_input": "2025-06-04T13:33:44.692662Z",
     "iopub.status.busy": "2025-06-04T13:33:44.692304Z",
     "iopub.status.idle": "2025-06-04T13:33:50.728442Z",
     "shell.execute_reply": "2025-06-04T13:33:50.727391Z",
     "shell.execute_reply.started": "2025-06-04T13:33:44.692633Z"
    },
    "trusted": true
   },
   "outputs": [
    {
     "name": "stdout",
     "output_type": "stream",
     "text": [
      "Enter a city name:  New Delhi\n"
     ]
    },
    {
     "name": "stdout",
     "output_type": "stream",
     "text": [
      "NEW DELHI\n",
      "new delhi\n",
      "New Delhi\n"
     ]
    }
   ],
   "source": [
    "#2\n",
    "city= input(\"Enter a city name: \")\n",
    "up = city.upper()\n",
    "low = city.lower()\n",
    "title = city.title()\n",
    "print(up)\n",
    "print(low)\n",
    "print(title)"
   ]
  },
  {
   "cell_type": "code",
   "execution_count": 5,
   "metadata": {
    "execution": {
     "iopub.execute_input": "2025-06-04T13:33:53.955046Z",
     "iopub.status.busy": "2025-06-04T13:33:53.954711Z",
     "iopub.status.idle": "2025-06-04T13:33:53.961479Z",
     "shell.execute_reply": "2025-06-04T13:33:53.960186Z",
     "shell.execute_reply.started": "2025-06-04T13:33:53.955019Z"
    },
    "trusted": true
   },
   "outputs": [
    {
     "name": "stdout",
     "output_type": "stream",
     "text": [
      "ygolonhceT\n"
     ]
    }
   ],
   "source": [
    "#3\n",
    "word=\"Technology\"\n",
    "rev= word[::-1]\n",
    "print(rev)"
   ]
  },
  {
   "cell_type": "code",
   "execution_count": 7,
   "metadata": {
    "execution": {
     "iopub.execute_input": "2025-06-04T13:34:09.884636Z",
     "iopub.status.busy": "2025-06-04T13:34:09.884290Z",
     "iopub.status.idle": "2025-06-04T13:34:09.889871Z",
     "shell.execute_reply": "2025-06-04T13:34:09.888941Z",
     "shell.execute_reply.started": "2025-06-04T13:34:09.884612Z"
    },
    "trusted": true
   },
   "outputs": [
    {
     "name": "stdout",
     "output_type": "stream",
     "text": [
      "Data-Science\n"
     ]
    }
   ],
   "source": [
    "#4\n",
    "words=[\"Data\", \"Science\"]\n",
    "joined= \"-\".join(words)\n",
    "print(joined)\n"
   ]
  },
  {
   "cell_type": "code",
   "execution_count": 22,
   "metadata": {
    "execution": {
     "iopub.execute_input": "2025-06-04T13:50:41.093050Z",
     "iopub.status.busy": "2025-06-04T13:50:41.092713Z",
     "iopub.status.idle": "2025-06-04T13:50:50.387140Z",
     "shell.execute_reply": "2025-06-04T13:50:50.386057Z",
     "shell.execute_reply.started": "2025-06-04T13:50:41.093025Z"
    },
    "trusted": true
   },
   "outputs": [
    {
     "name": "stdout",
     "output_type": "stream",
     "text": [
      "Enter the Price of the Product:  5000.997\n"
     ]
    },
    {
     "name": "stdout",
     "output_type": "stream",
     "text": [
      "The Price of the Product is 5001.00\n"
     ]
    }
   ],
   "source": [
    "#5\n",
    "product_price = float(input(\"Enter the Price of the Product: \"))\n",
    "print(f\"The Price of the Product is {product_price:.2f}\")"
   ]
  },
  {
   "cell_type": "code",
   "execution_count": 8,
   "metadata": {
    "execution": {
     "iopub.execute_input": "2025-06-04T13:34:17.060327Z",
     "iopub.status.busy": "2025-06-04T13:34:17.059966Z",
     "iopub.status.idle": "2025-06-04T13:34:17.067569Z",
     "shell.execute_reply": "2025-06-04T13:34:17.066116Z",
     "shell.execute_reply.started": "2025-06-04T13:34:17.060299Z"
    },
    "trusted": true
   },
   "outputs": [
    {
     "name": "stdout",
     "output_type": "stream",
     "text": [
      "John is 30 years old.\n"
     ]
    }
   ],
   "source": [
    "#6\n",
    "name= \"John\"\n",
    "age= 30\n",
    "print(f\"{name} is {age} years old.\")"
   ]
  },
  {
   "cell_type": "code",
   "execution_count": 10,
   "metadata": {
    "execution": {
     "iopub.execute_input": "2025-06-04T13:35:03.719756Z",
     "iopub.status.busy": "2025-06-04T13:35:03.719332Z",
     "iopub.status.idle": "2025-06-04T13:35:03.728004Z",
     "shell.execute_reply": "2025-06-04T13:35:03.725969Z",
     "shell.execute_reply.started": "2025-06-04T13:35:03.719729Z"
    },
    "trusted": true
   },
   "outputs": [
    {
     "name": "stdout",
     "output_type": "stream",
     "text": [
      "True\n"
     ]
    }
   ],
   "source": [
    "#7\n",
    "string= \"Python is awesome\"\n",
    "check= \"Python\" in string\n",
    "print(check)"
   ]
  },
  {
   "cell_type": "code",
   "execution_count": 26,
   "metadata": {
    "execution": {
     "iopub.execute_input": "2025-06-04T13:56:08.422451Z",
     "iopub.status.busy": "2025-06-04T13:56:08.422144Z",
     "iopub.status.idle": "2025-06-04T13:56:09.977244Z",
     "shell.execute_reply": "2025-06-04T13:56:09.976371Z",
     "shell.execute_reply.started": "2025-06-04T13:56:08.422427Z"
    },
    "trusted": true
   },
   "outputs": [
    {
     "name": "stdout",
     "output_type": "stream",
     "text": [
      "Enter a sentence:  Enter a sentence\n"
     ]
    },
    {
     "name": "stdout",
     "output_type": "stream",
     "text": [
      "16\n"
     ]
    }
   ],
   "source": [
    "#8\n",
    "sentence= input(\"Enter a sentence: \").strip()\n",
    "length=len(sentence)\n",
    "\n",
    "print(length)\n",
    "\n"
   ]
  },
  {
   "cell_type": "code",
   "execution_count": 12,
   "metadata": {
    "execution": {
     "iopub.execute_input": "2025-06-04T13:40:39.080047Z",
     "iopub.status.busy": "2025-06-04T13:40:39.079692Z",
     "iopub.status.idle": "2025-06-04T13:40:39.085071Z",
     "shell.execute_reply": "2025-06-04T13:40:39.083955Z",
     "shell.execute_reply.started": "2025-06-04T13:40:39.080019Z"
    },
    "trusted": true
   },
   "outputs": [
    {
     "name": "stdout",
     "output_type": "stream",
     "text": [
      "210.0\n"
     ]
    }
   ],
   "source": [
    "#9\n",
    "price= 200\n",
    "tax=(5/100) * price\n",
    "final_price=price+tax\n",
    "print(final_price)"
   ]
  },
  {
   "cell_type": "code",
   "execution_count": 13,
   "metadata": {
    "execution": {
     "iopub.execute_input": "2025-06-04T13:42:21.761816Z",
     "iopub.status.busy": "2025-06-04T13:42:21.761376Z",
     "iopub.status.idle": "2025-06-04T13:42:21.768021Z",
     "shell.execute_reply": "2025-06-04T13:42:21.766615Z",
     "shell.execute_reply.started": "2025-06-04T13:42:21.761787Z"
    },
    "trusted": true
   },
   "outputs": [
    {
     "name": "stdout",
     "output_type": "stream",
     "text": [
      "True\n"
     ]
    }
   ],
   "source": [
    "#10\n",
    "name=\"Alice\"\n",
    "if 'i' in name and 'z' not in name:\n",
    "    print(\"True\")\n"
   ]
  },
  {
   "cell_type": "code",
   "execution_count": 14,
   "metadata": {
    "execution": {
     "iopub.execute_input": "2025-06-04T13:42:45.149948Z",
     "iopub.status.busy": "2025-06-04T13:42:45.149632Z",
     "iopub.status.idle": "2025-06-04T13:42:45.155116Z",
     "shell.execute_reply": "2025-06-04T13:42:45.154082Z",
     "shell.execute_reply.started": "2025-06-04T13:42:45.149925Z"
    },
    "trusted": true
   },
   "outputs": [
    {
     "name": "stdout",
     "output_type": "stream",
     "text": [
      "The Score of User is  90.0\n"
     ]
    }
   ],
   "source": [
    "#11\n",
    "Maths, Physics, Chemistry = 95,90,85\n",
    "average = (Maths+Physics+Chemistry)/3\n",
    "print(\"The Score of User is \",average)"
   ]
  },
  {
   "cell_type": "code",
   "execution_count": 15,
   "metadata": {
    "execution": {
     "iopub.execute_input": "2025-06-04T13:43:14.744393Z",
     "iopub.status.busy": "2025-06-04T13:43:14.744039Z",
     "iopub.status.idle": "2025-06-04T13:43:20.956433Z",
     "shell.execute_reply": "2025-06-04T13:43:20.955551Z",
     "shell.execute_reply.started": "2025-06-04T13:43:14.744369Z"
    },
    "trusted": true
   },
   "outputs": [
    {
     "name": "stdout",
     "output_type": "stream",
     "text": [
      "Enter the Height 160\n",
      "Enter the weight 60\n"
     ]
    },
    {
     "name": "stdout",
     "output_type": "stream",
     "text": [
      "The BMI is:  0.00234375\n"
     ]
    }
   ],
   "source": [
    "#12\n",
    "height = int(input(\"Enter the Height\"))\n",
    "weight = int(input(\"Enter the weight\"))\n",
    " \n",
    "BMI = weight/(height**2)\n",
    "print(\"The BMI is: \",BMI)"
   ]
  },
  {
   "cell_type": "code",
   "execution_count": 16,
   "metadata": {
    "execution": {
     "iopub.execute_input": "2025-06-04T13:43:39.663154Z",
     "iopub.status.busy": "2025-06-04T13:43:39.662869Z",
     "iopub.status.idle": "2025-06-04T13:43:39.668537Z",
     "shell.execute_reply": "2025-06-04T13:43:39.667407Z",
     "shell.execute_reply.started": "2025-06-04T13:43:39.663133Z"
    },
    "trusted": true
   },
   "outputs": [
    {
     "name": "stdout",
     "output_type": "stream",
     "text": [
      "love\n"
     ]
    }
   ],
   "source": [
    "#13\n",
    "string = \"I love Python!\"\n",
    "print(string[2:6])"
   ]
  },
  {
   "cell_type": "code",
   "execution_count": 17,
   "metadata": {
    "execution": {
     "iopub.execute_input": "2025-06-04T13:43:56.478081Z",
     "iopub.status.busy": "2025-06-04T13:43:56.477785Z",
     "iopub.status.idle": "2025-06-04T13:43:56.483632Z",
     "shell.execute_reply": "2025-06-04T13:43:56.482398Z",
     "shell.execute_reply.started": "2025-06-04T13:43:56.478060Z"
    },
    "trusted": true
   },
   "outputs": [
    {
     "name": "stdout",
     "output_type": "stream",
     "text": [
      "This is a good idea\n"
     ]
    }
   ],
   "source": [
    "#14\n",
    "Output = \"This is a bad idea\"\n",
    "final_sentence = Output.replace(\"bad\",\"good\")\n",
    "print(final_sentence)"
   ]
  },
  {
   "cell_type": "code",
   "execution_count": 2,
   "metadata": {
    "execution": {
     "iopub.execute_input": "2025-06-04T15:12:59.988423Z",
     "iopub.status.busy": "2025-06-04T15:12:59.988175Z",
     "iopub.status.idle": "2025-06-04T15:13:00.008551Z",
     "shell.execute_reply": "2025-06-04T15:13:00.007566Z",
     "shell.execute_reply.started": "2025-06-04T15:12:59.988403Z"
    },
    "trusted": true
   },
   "outputs": [
    {
     "name": "stdout",
     "output_type": "stream",
     "text": [
      "False\n"
     ]
    }
   ],
   "source": [
    "#15\n",
    "a = 1000\n",
    "b = 1000\n",
    " \n",
    "print(a is b)"
   ]
  }
 ],
 "metadata": {
  "kaggle": {
   "accelerator": "none",
   "dataSources": [],
   "dockerImageVersionId": 31040,
   "isGpuEnabled": false,
   "isInternetEnabled": false,
   "language": "python",
   "sourceType": "notebook"
  },
  "kernelspec": {
   "display_name": "Python 3",
   "language": "python",
   "name": "python3"
  },
  "language_info": {
   "codemirror_mode": {
    "name": "ipython",
    "version": 3
   },
   "file_extension": ".py",
   "mimetype": "text/x-python",
   "name": "python",
   "nbconvert_exporter": "python",
   "pygments_lexer": "ipython3",
   "version": "3.11.11"
  }
 },
 "nbformat": 4,
 "nbformat_minor": 4
}

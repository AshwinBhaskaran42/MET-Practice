{
 "cells": [
  {
   "cell_type": "code",
   "execution_count": 30,
   "metadata": {
    "_cell_guid": "b1076dfc-b9ad-4769-8c92-a6c4dae69d19",
    "_uuid": "8f2839f25d086af736a60e9eeb907d3b93b6e0e5",
    "execution": {
     "iopub.execute_input": "2025-06-05T13:36:55.432064Z",
     "iopub.status.busy": "2025-06-05T13:36:55.431720Z",
     "iopub.status.idle": "2025-06-05T13:36:55.438687Z",
     "shell.execute_reply": "2025-06-05T13:36:55.437479Z",
     "shell.execute_reply.started": "2025-06-05T13:36:55.432041Z"
    },
    "trusted": true
   },
   "outputs": [
    {
     "name": "stdout",
     "output_type": "stream",
     "text": [
      "apple\n",
      "mango\n"
     ]
    }
   ],
   "source": [
    "# #1 \n",
    "# fruits= [\"apple\",\"banana\",\"cherry\",\"orange\",\"mango\"]\n",
    "# print(fruits[0])\n",
    "# print(fruits[4])"
   ]
  },
  {
   "cell_type": "code",
   "execution_count": 31,
   "metadata": {
    "execution": {
     "iopub.execute_input": "2025-06-05T13:37:05.629515Z",
     "iopub.status.busy": "2025-06-05T13:37:05.629157Z",
     "iopub.status.idle": "2025-06-05T13:37:19.949835Z",
     "shell.execute_reply": "2025-06-05T13:37:19.948912Z",
     "shell.execute_reply.started": "2025-06-05T13:37:05.629492Z"
    },
    "trusted": true
   },
   "outputs": [
    {
     "name": "stdout",
     "output_type": "stream",
     "text": [
      "Enter 1st city:  hyderabad\n",
      "Enter 2nd city:  vizag\n",
      "Enter 3rd city:  secunderabad\n"
     ]
    },
    {
     "name": "stdout",
     "output_type": "stream",
     "text": [
      "['hyderabad', 'vizag', 'secunderabad']\n"
     ]
    }
   ],
   "source": [
    "# #2\n",
    "# city1= input(\"Enter 1st city: \")\n",
    "# city2= input(\"Enter 2nd city: \")\n",
    "# city3= input(\"Enter 3rd city: \")\n",
    "# list1=[city1, city2, city3]\n",
    "# print(list1)"
   ]
  },
  {
   "cell_type": "code",
   "execution_count": 32,
   "metadata": {
    "execution": {
     "iopub.execute_input": "2025-06-05T13:37:27.930156Z",
     "iopub.status.busy": "2025-06-05T13:37:27.929750Z",
     "iopub.status.idle": "2025-06-05T13:37:27.936770Z",
     "shell.execute_reply": "2025-06-05T13:37:27.935116Z",
     "shell.execute_reply.started": "2025-06-05T13:37:27.930129Z"
    },
    "trusted": true
   },
   "outputs": [
    {
     "name": "stdout",
     "output_type": "stream",
     "text": [
      "[850, 720]\n"
     ]
    }
   ],
   "source": [
    "# #3\n",
    "# prices =  [1200, 850, 950, 720]\n",
    "# prices.sort(reverse = True)\n",
    "# print(prices[2:])"
   ]
  },
  {
   "cell_type": "code",
   "execution_count": 33,
   "metadata": {
    "execution": {
     "iopub.execute_input": "2025-06-05T13:37:38.210926Z",
     "iopub.status.busy": "2025-06-05T13:37:38.210582Z",
     "iopub.status.idle": "2025-06-05T13:37:38.216763Z",
     "shell.execute_reply": "2025-06-05T13:37:38.215573Z",
     "shell.execute_reply.started": "2025-06-05T13:37:38.210904Z"
    },
    "trusted": true
   },
   "outputs": [
    {
     "name": "stdout",
     "output_type": "stream",
     "text": [
      "[2, 4, 6, 8, 10, 12]\n"
     ]
    }
   ],
   "source": [
    "# #4\n",
    "# num= [2,4,6,8,10]\n",
    "# num.append(12)\n",
    "# print(num)"
   ]
  },
  {
   "cell_type": "code",
   "execution_count": 34,
   "metadata": {
    "execution": {
     "iopub.execute_input": "2025-06-05T13:37:44.546834Z",
     "iopub.status.busy": "2025-06-05T13:37:44.545883Z",
     "iopub.status.idle": "2025-06-05T13:37:44.552942Z",
     "shell.execute_reply": "2025-06-05T13:37:44.551425Z",
     "shell.execute_reply.started": "2025-06-05T13:37:44.546796Z"
    },
    "trusted": true
   },
   "outputs": [
    {
     "name": "stdout",
     "output_type": "stream",
     "text": [
      "['Java', 'Python', 'C++', 'Go']\n"
     ]
    }
   ],
   "source": [
    "# #5\n",
    "# list_ =['Java', 'C++', 'Go']\n",
    "# list_.insert(1,\"Python\")\n",
    "# print(list_)"
   ]
  },
  {
   "cell_type": "code",
   "execution_count": 35,
   "metadata": {
    "execution": {
     "iopub.execute_input": "2025-06-05T13:37:52.392826Z",
     "iopub.status.busy": "2025-06-05T13:37:52.392482Z",
     "iopub.status.idle": "2025-06-05T13:37:57.685798Z",
     "shell.execute_reply": "2025-06-05T13:37:57.684594Z",
     "shell.execute_reply.started": "2025-06-05T13:37:52.392803Z"
    },
    "trusted": true
   },
   "outputs": [
    {
     "name": "stdout",
     "output_type": "stream",
     "text": [
      "Enter a sentence:  This is a sentence.\n"
     ]
    },
    {
     "name": "stdout",
     "output_type": "stream",
     "text": [
      "['This', 'is', 'a', 'sentence.']\n"
     ]
    }
   ],
   "source": [
    "# #6\n",
    "# sen = input(\"Enter a sentence: \")\n",
    "# list = sen.split(\" \")\n",
    "# print(list)"
   ]
  },
  {
   "cell_type": "code",
   "execution_count": 36,
   "metadata": {
    "execution": {
     "iopub.execute_input": "2025-06-05T13:38:03.458713Z",
     "iopub.status.busy": "2025-06-05T13:38:03.458364Z",
     "iopub.status.idle": "2025-06-05T13:38:03.463956Z",
     "shell.execute_reply": "2025-06-05T13:38:03.462928Z",
     "shell.execute_reply.started": "2025-06-05T13:38:03.458690Z"
    },
    "trusted": true
   },
   "outputs": [
    {
     "name": "stdout",
     "output_type": "stream",
     "text": [
      "['Jan', 'Feb', 'Mar']\n"
     ]
    }
   ],
   "source": [
    "# #7\n",
    "# months= ['Jan', 'Feb', 'Mar', 'Apr']\n",
    "# del months[3]\n",
    "# print(months)"
   ]
  },
  {
   "cell_type": "code",
   "execution_count": 37,
   "metadata": {
    "execution": {
     "iopub.execute_input": "2025-06-05T13:38:14.291539Z",
     "iopub.status.busy": "2025-06-05T13:38:14.291074Z",
     "iopub.status.idle": "2025-06-05T13:38:14.297087Z",
     "shell.execute_reply": "2025-06-05T13:38:14.296061Z",
     "shell.execute_reply.started": "2025-06-05T13:38:14.291515Z"
    },
    "trusted": true
   },
   "outputs": [
    {
     "name": "stdout",
     "output_type": "stream",
     "text": [
      "['train', 'car', 'bus']\n"
     ]
    }
   ],
   "source": [
    "# #8\n",
    "# givenlist= ['car', 'bus', 'train']\n",
    "# givenlist.sort()\n",
    "# givenlist.reverse()\n",
    "# print(givenlist)"
   ]
  },
  {
   "cell_type": "code",
   "execution_count": 38,
   "metadata": {
    "execution": {
     "iopub.execute_input": "2025-06-05T13:38:20.194889Z",
     "iopub.status.busy": "2025-06-05T13:38:20.194536Z",
     "iopub.status.idle": "2025-06-05T13:38:20.201165Z",
     "shell.execute_reply": "2025-06-05T13:38:20.199973Z",
     "shell.execute_reply.started": "2025-06-05T13:38:20.194865Z"
    },
    "trusted": true
   },
   "outputs": [
    {
     "name": "stdout",
     "output_type": "stream",
     "text": [
      "2 times\n"
     ]
    }
   ],
   "source": [
    "# #9\n",
    "# list2= ['apple', 'banana', 'apple', 'cherry']\n",
    "# c= list2.count(\"apple\")\n",
    "# print(c, \"times\")"
   ]
  },
  {
   "cell_type": "code",
   "execution_count": 39,
   "metadata": {
    "execution": {
     "iopub.execute_input": "2025-06-05T13:38:27.007942Z",
     "iopub.status.busy": "2025-06-05T13:38:27.007618Z",
     "iopub.status.idle": "2025-06-05T13:38:27.014722Z",
     "shell.execute_reply": "2025-06-05T13:38:27.013580Z",
     "shell.execute_reply.started": "2025-06-05T13:38:27.007921Z"
    },
    "trusted": true
   },
   "outputs": [
    {
     "name": "stdout",
     "output_type": "stream",
     "text": [
      "Tom has 3 apples and 5 bananas.\n"
     ]
    }
   ],
   "source": [
    "# #10\n",
    "# num1= 3\n",
    "# num2= 5\n",
    "# fruit1= \"apples\"\n",
    "# fruit2= \"bananas\"\n",
    "\n",
    "# print(\"Tom has {} {} and {} {}.\".format(num1, fruit1, num2, fruit2))"
   ]
  },
  {
   "cell_type": "code",
   "execution_count": 1,
   "metadata": {
    "execution": {
     "iopub.execute_input": "2025-06-05T13:42:47.731368Z",
     "iopub.status.busy": "2025-06-05T13:42:47.731085Z",
     "iopub.status.idle": "2025-06-05T13:42:47.739980Z",
     "shell.execute_reply": "2025-06-05T13:42:47.739027Z",
     "shell.execute_reply.started": "2025-06-05T13:42:47.731343Z"
    },
    "trusted": true
   },
   "outputs": [
    {
     "name": "stdout",
     "output_type": "stream",
     "text": [
      "['h', 'e', 'l', 'l', 'o']\n"
     ]
    }
   ],
   "source": [
    "#11\n",
    "My_string = \"hello\"\n",
    "my_char = list(My_string)\n",
    "print(my_char)"
   ]
  },
  {
   "cell_type": "code",
   "execution_count": 1,
   "metadata": {
    "execution": {
     "iopub.execute_input": "2025-06-06T09:55:35.082315Z",
     "iopub.status.busy": "2025-06-06T09:55:35.082104Z",
     "iopub.status.idle": "2025-06-06T09:55:35.091380Z",
     "shell.execute_reply": "2025-06-06T09:55:35.090377Z",
     "shell.execute_reply.started": "2025-06-06T09:55:35.082286Z"
    },
    "trusted": true
   },
   "outputs": [
    {
     "name": "stdout",
     "output_type": "stream",
     "text": [
      "The sum is  6  and the average is  2.0\n"
     ]
    }
   ],
   "source": [
    "#12\n",
    "nums = [1,2,3]\n",
    "r = sum(nums)\n",
    "a = sum(nums)/len(nums)\n",
    "print(\"The sum is \",r,\" and the average is \",a)"
   ]
  },
  {
   "cell_type": "code",
   "execution_count": 2,
   "metadata": {
    "execution": {
     "iopub.execute_input": "2025-06-06T09:55:42.652116Z",
     "iopub.status.busy": "2025-06-06T09:55:42.651792Z",
     "iopub.status.idle": "2025-06-06T09:55:48.490462Z",
     "shell.execute_reply": "2025-06-06T09:55:48.489551Z",
     "shell.execute_reply.started": "2025-06-06T09:55:42.652095Z"
    },
    "trusted": true
   },
   "outputs": [
    {
     "name": "stdout",
     "output_type": "stream",
     "text": [
      "Enter your Name: ashwin\n"
     ]
    },
    {
     "name": "stdout",
     "output_type": "stream",
     "text": [
      "['n', 'i', 'w', 'h', 's', 'a']\n"
     ]
    }
   ],
   "source": [
    "#13\n",
    "name = input(\"Enter your Name:\")\n",
    "name_l = list(name)\n",
    "name_l.reverse()\n",
    "print(name_l)"
   ]
  },
  {
   "cell_type": "code",
   "execution_count": 48,
   "metadata": {
    "execution": {
     "iopub.execute_input": "2025-06-05T13:41:56.955532Z",
     "iopub.status.busy": "2025-06-05T13:41:56.954751Z",
     "iopub.status.idle": "2025-06-05T13:41:56.960294Z",
     "shell.execute_reply": "2025-06-05T13:41:56.959387Z",
     "shell.execute_reply.started": "2025-06-05T13:41:56.955505Z"
    },
    "trusted": true
   },
   "outputs": [
    {
     "name": "stdout",
     "output_type": "stream",
     "text": [
      "True\n"
     ]
    }
   ],
   "source": [
    "#14\n",
    "names = ['Alice', 'Bob', 'Charlie']\n",
    "print(\"Bob\" in names)"
   ]
  },
  {
   "cell_type": "code",
   "execution_count": 49,
   "metadata": {
    "execution": {
     "iopub.execute_input": "2025-06-05T13:42:09.968547Z",
     "iopub.status.busy": "2025-06-05T13:42:09.967710Z",
     "iopub.status.idle": "2025-06-05T13:42:09.973586Z",
     "shell.execute_reply": "2025-06-05T13:42:09.972704Z",
     "shell.execute_reply.started": "2025-06-05T13:42:09.968513Z"
    },
    "trusted": true
   },
   "outputs": [
    {
     "name": "stdout",
     "output_type": "stream",
     "text": [
      "[]\n"
     ]
    }
   ],
   "source": [
    "#15\n",
    "nums_names = ['one', 'two', 'three']\n",
    "nums_names.clear()\n",
    "print(nums_names)"
   ]
  }
 ],
 "metadata": {
  "kaggle": {
   "accelerator": "none",
   "dataSources": [],
   "dockerImageVersionId": 31040,
   "isGpuEnabled": false,
   "isInternetEnabled": false,
   "language": "python",
   "sourceType": "notebook"
  },
  "kernelspec": {
   "display_name": "Python 3",
   "language": "python",
   "name": "python3"
  },
  "language_info": {
   "codemirror_mode": {
    "name": "ipython",
    "version": 3
   },
   "file_extension": ".py",
   "mimetype": "text/x-python",
   "name": "python",
   "nbconvert_exporter": "python",
   "pygments_lexer": "ipython3",
   "version": "3.11.11"
  }
 },
 "nbformat": 4,
 "nbformat_minor": 4
}
